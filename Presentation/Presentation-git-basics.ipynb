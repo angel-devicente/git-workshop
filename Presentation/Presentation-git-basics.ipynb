{
 "cells": [
  {
   "cell_type": "markdown",
   "metadata": {
    "slideshow": {
     "slide_type": "slide"
    }
   },
   "source": [
    "# Git basics\n",
    "\n",
    "### Ángel de Vicente  (*angel.de.vicente@iac.es*)\n",
    "\n",
    "#### Date: November 13,  2020\n"
   ]
  },
  {
   "cell_type": "markdown",
   "metadata": {
    "slideshow": {
     "slide_type": "-"
    }
   },
   "source": [
    "<img src=\"Images/logos/logos_eurocc.png\" style=\"width: 900px;\"/>"
   ]
  },
  {
   "cell_type": "markdown",
   "metadata": {
    "slideshow": {
     "slide_type": "skip"
    }
   },
   "source": [
    "https://github.com/angel-devicente/git-workshop"
   ]
  },
  {
   "cell_type": "markdown",
   "metadata": {
    "slideshow": {
     "slide_type": "slide"
    }
   },
   "source": [
    "## Index\n",
    "\n",
    "1. Git basics\n",
    "2. Git basic usage\n",
    "3. Branches\n",
    "4. Merging\n"
   ]
  },
  {
   "cell_type": "markdown",
   "metadata": {
    "slideshow": {
     "slide_type": "slide"
    }
   },
   "source": [
    "## 1. Git basics"
   ]
  },
  {
   "cell_type": "markdown",
   "metadata": {
    "slideshow": {
     "slide_type": "slide"
    }
   },
   "source": [
    "### Basic concepts:\n",
    "\n",
    "+ What is version control?\n",
    "+ What do we version control? (text vs. binary files)\n",
    "+ Several version control systems (VCS): (*subversion, git, bazaar, ...*)\n",
    "+ You have probably already used a VCS directly or indirectly (e.g. Dropbox, Overleaf)\n",
    "+ Version control main concepts: *commit/checkout, branching, merging*\n",
    "+ Main benefits of version control systems: travelling back in time, reproducibility, collaboration"
   ]
  },
  {
   "cell_type": "markdown",
   "metadata": {
    "slideshow": {
     "slide_type": "slide"
    }
   },
   "source": [
    "### Types of Version Control Systems\n",
    "\n",
    "+ *Manual* VCS (*don't be the one doing this!*)\n",
    "\n",
    "<img src=\"Images/basics/version-control-phdcomics.png\" style=\"width: 30%;\"/>"
   ]
  },
  {
   "cell_type": "markdown",
   "metadata": {
    "slideshow": {
     "slide_type": "slide"
    }
   },
   "source": [
    "+ Local VCS (e.g. `RCS`)\n",
    "\n",
    "<img src=\"Images/basics/local.png\" style=\"width: 40%;\"/>"
   ]
  },
  {
   "cell_type": "markdown",
   "metadata": {
    "slideshow": {
     "slide_type": "slide"
    }
   },
   "source": [
    "+ Centralized VCS (e.g. `Subversion`)\n",
    "\n",
    "<img src=\"Images/basics/centralized.png\" style=\"width: 50%;\"/>"
   ]
  },
  {
   "cell_type": "markdown",
   "metadata": {
    "slideshow": {
     "slide_type": "slide"
    }
   },
   "source": [
    "+ Distributed VCS (e.g. `Git`)\n",
    "\n",
    "<img src=\"Images/basics/distributed.png\" style=\"width: 38%;\"/>"
   ]
  },
  {
   "cell_type": "markdown",
   "metadata": {
    "slideshow": {
     "slide_type": "slide"
    }
   },
   "source": [
    "### Setting up git"
   ]
  },
  {
   "cell_type": "code",
   "execution_count": null,
   "metadata": {
    "slideshow": {
     "slide_type": "-"
    }
   },
   "outputs": [],
   "source": [
    "%%bash   \n",
    "## %%bash not part of git. Just to be able to execute bash commands live during the presentation\n",
    "\n",
    "git --version    "
   ]
  },
  {
   "cell_type": "markdown",
   "metadata": {
    "slideshow": {
     "slide_type": "-"
    }
   },
   "source": [
    "+ *git config* (details at: https://git-scm.com/book/en/v2/Getting-Started-First-Time-Git-Setup)\n",
    "+ Configuration variables stored in three different places:\n",
    "    + */etc/gitconfig* file (*--system* option)\n",
    "    + *~/.gitconfig* or *~/.config/git/config* file (*--global* option)\n",
    "    + *config* file in the Git directory (*--local* option)"
   ]
  },
  {
   "cell_type": "markdown",
   "metadata": {
    "slideshow": {
     "slide_type": "slide"
    }
   },
   "source": [
    "### Setting up git (2)\n",
    "\n",
    "+ Basic settings\n",
    "```bash\n",
    "$ git config --global user.name \"John Doe\"\n",
    "$ git config --global user.email johndoe@example.com\n",
    "```\n",
    "\n",
    "+ Many other options, e.g:\n",
    "```bash\n",
    "$ git config --global core.editor emacs\n",
    "$ git config --global color.ui \"auto\"\n",
    "```    "
   ]
  },
  {
   "cell_type": "markdown",
   "metadata": {
    "slideshow": {
     "slide_type": "slide"
    }
   },
   "source": [
    "#### Sample settings"
   ]
  },
  {
   "cell_type": "code",
   "execution_count": null,
   "metadata": {
    "slideshow": {
     "slide_type": "-"
    }
   },
   "outputs": [],
   "source": [
    "%%bash\n",
    "\n",
    "git config --list  ## --show-origin"
   ]
  },
  {
   "cell_type": "markdown",
   "metadata": {
    "slideshow": {
     "slide_type": "slide"
    }
   },
   "source": [
    "### Getting help"
   ]
  },
  {
   "cell_type": "code",
   "execution_count": null,
   "metadata": {
    "slideshow": {
     "slide_type": "-"
    }
   },
   "outputs": [],
   "source": [
    "%%bash\n",
    "## | head -n 18  to print only the first 18 lines\n",
    "\n",
    "git --help | head -n 18"
   ]
  },
  {
   "cell_type": "code",
   "execution_count": null,
   "metadata": {
    "slideshow": {
     "slide_type": "slide"
    }
   },
   "outputs": [],
   "source": [
    "%%bash\n",
    "\n",
    "git add -h | head -n 18"
   ]
  },
  {
   "cell_type": "code",
   "execution_count": null,
   "metadata": {
    "slideshow": {
     "slide_type": "slide"
    }
   },
   "outputs": [],
   "source": [
    "%%bash\n",
    "\n",
    "git status --help | head -n 22"
   ]
  },
  {
   "cell_type": "markdown",
   "metadata": {
    "slideshow": {
     "slide_type": "slide"
    }
   },
   "source": [
    "### Main ideas in Git\n",
    "\n",
    "+ Nearly all operations are local \n",
    "    + *.git* directory keeps all history\n",
    "    + very little that you cannot do when offline\n",
    "+ Integrity\n",
    "    + Everything checksummed before stored\n",
    "    + Hashes: *24b9da6552252987aa493b52f8696cd6d3b00373*\n",
    "\n",
    "+ Snapshots, not differences\n"
   ]
  },
  {
   "cell_type": "markdown",
   "metadata": {
    "slideshow": {
     "slide_type": "slide"
    }
   },
   "source": [
    "+ Delta-based VCS\n",
    "<img src=\"Images/basics/deltas.png\" style=\"width: 800px;\"/>  "
   ]
  },
  {
   "cell_type": "markdown",
   "metadata": {
    "slideshow": {
     "slide_type": "slide"
    }
   },
   "source": [
    "+ Snapshots (Git)\n",
    "<img src=\"Images/basics/snapshots.png\" style=\"width:800px;\"/>"
   ]
  },
  {
   "cell_type": "markdown",
   "metadata": {
    "slideshow": {
     "slide_type": "slide"
    }
   },
   "source": [
    "## 2. Git basic usage "
   ]
  },
  {
   "cell_type": "markdown",
   "metadata": {
    "slideshow": {
     "slide_type": "slide"
    }
   },
   "source": [
    "### Using git as a local VCS \n",
    "\n",
    "<img src=\"Images/basics/local.png\" style=\"width: 40%;\"/>"
   ]
  },
  {
   "cell_type": "markdown",
   "metadata": {
    "slideshow": {
     "slide_type": "slide"
    }
   },
   "source": [
    "### Create a repository \n",
    "\n",
    "#### `git init`"
   ]
  },
  {
   "cell_type": "code",
   "execution_count": null,
   "metadata": {
    "scrolled": true,
    "slideshow": {
     "slide_type": "-"
    }
   },
   "outputs": [],
   "source": [
    "%%bash\n",
    "\n",
    "cd ../Demos/Repos\n",
    "rm -rf First_Demo ; mkdir First_Demo ; cd First_Demo\n",
    "\n",
    "git init -q\n",
    "ls -al "
   ]
  },
  {
   "cell_type": "markdown",
   "metadata": {
    "slideshow": {
     "slide_type": "slide"
    }
   },
   "source": [
    "+ All repository information goes to .git directory (DO NOT EDIT by hand)"
   ]
  },
  {
   "cell_type": "code",
   "execution_count": null,
   "metadata": {
    "slideshow": {
     "slide_type": "-"
    }
   },
   "outputs": [],
   "source": [
    "%%bash\n",
    "\n",
    "cd ../Demos/Repos\n",
    "ls First_Demo/.git"
   ]
  },
  {
   "cell_type": "markdown",
   "metadata": {
    "slideshow": {
     "slide_type": "slide"
    }
   },
   "source": [
    "### Recording changes\n",
    "\n",
    "+ `git status`\n",
    "+ `git add`\n",
    "+ `git commit`\n",
    "+ `git rm`\n",
    "+ `git mv`"
   ]
  },
  {
   "cell_type": "markdown",
   "metadata": {
    "slideshow": {
     "slide_type": "slide"
    }
   },
   "source": [
    "+ Commiting changes\n",
    "<img src=\"Images/basics/commiting.png\" style=\"width: 90%;\"/>\n"
   ]
  },
  {
   "cell_type": "markdown",
   "metadata": {
    "slideshow": {
     "slide_type": "slide"
    }
   },
   "source": [
    "+ Tracking changes\n",
    "<img src=\"Images/basics/lifecycle.png\" style=\"width: 900px;\"/>\n"
   ]
  },
  {
   "cell_type": "markdown",
   "metadata": {
    "scrolled": false,
    "slideshow": {
     "slide_type": "slide"
    }
   },
   "source": [
    "### Recording changes demo\n",
    "\n",
    "https://asciinema.org/a/AWQng1KOlEOxsCe1qdpadv0sN?autoplay=1&cols=180&rows=40"
   ]
  },
  {
   "cell_type": "markdown",
   "metadata": {
    "slideshow": {
     "slide_type": "skip"
    }
   },
   "source": [
    "https://asciinema.org/a/Rff5PnrBC79FMI7ThpbWBLX8D?autoplay=1&cols=180&rows=40"
   ]
  },
  {
   "cell_type": "markdown",
   "metadata": {
    "slideshow": {
     "slide_type": "slide"
    }
   },
   "source": [
    "### Viewing history\n",
    "\n",
    "+ `git log`\n",
    "+ `git diff`"
   ]
  },
  {
   "cell_type": "markdown",
   "metadata": {
    "slideshow": {
     "slide_type": "-"
    }
   },
   "source": [
    "### Viewing history demo\n",
    "\n",
    "https://asciinema.org/a/Kw55lEVlHUFOGauWs8vW0RQ04?autoplay=1&cols=180&rows=40"
   ]
  },
  {
   "cell_type": "markdown",
   "metadata": {
    "slideshow": {
     "slide_type": "skip"
    }
   },
   "source": [
    "https://asciinema.org/a/zHPylAmuKN3TWmGhQJiPOidZd?autoplay=1&cols=180&rows=40"
   ]
  },
  {
   "cell_type": "markdown",
   "metadata": {
    "slideshow": {
     "slide_type": "slide"
    }
   },
   "source": [
    "+ Commit messages are important (*don't do this*)\n",
    "<img src=\"Images/basics/bad_commits.png\" style=\"width: 95%;\"/>"
   ]
  },
  {
   "cell_type": "markdown",
   "metadata": {
    "slideshow": {
     "slide_type": "slide"
    }
   },
   "source": [
    "### Undoing things\n",
    "\n",
    "+ `git commit --amend`\n",
    "+ `git restore --staged CONTRIBUTING.md`\n",
    "+ `git restore README.md` \n",
    "\n"
   ]
  },
  {
   "cell_type": "markdown",
   "metadata": {
    "slideshow": {
     "slide_type": "slide"
    }
   },
   "source": [
    "### Undoing things demo\n",
    "\n",
    "https://asciinema.org/a/llbHbix088FqwazA2Ms7hJZT6?autoplay=1&cols=180&rows=40\n",
    "\n",
    "+ In older versions of `git`, instead of `git restore` you would use:\n",
    " + `git reset HEAD ...` \n",
    " + and `git checkout ...` \n",
    "\n",
    "    (see examples in https://git-scm.com/book/en/v2/Git-Basics-Undoing-Things)"
   ]
  },
  {
   "cell_type": "markdown",
   "metadata": {
    "slideshow": {
     "slide_type": "skip"
    }
   },
   "source": [
    "https://asciinema.org/a/Sq5xBDSbbbdJ1AxdZmz755xaJ?autoplay=1&cols=180&rows=40"
   ]
  },
  {
   "cell_type": "markdown",
   "metadata": {
    "slideshow": {
     "slide_type": "slide"
    }
   },
   "source": [
    "###  Command-line vs GUIs\n",
    "\n",
    "+ Command-line lets you:\n",
    "    + access *every* aspect of Git\n",
    "    + can be automated in scripts\n",
    "    + 'lingua franca' \n",
    "    \n",
    "+ GUIs\n",
    "    + the entry barrier for users is lower\n",
    "    + can group common usage patterns\n",
    "    + help with advanced options\n",
    "    + choose your poison: GitKraken, GitAhead, Magit, ...\n",
    "        + https://git-scm.com/download/gui/linux"
   ]
  },
  {
   "cell_type": "markdown",
   "metadata": {
    "slideshow": {
     "slide_type": "slide"
    }
   },
   "source": [
    "+ GitKraken https://www.gitkraken.com/\n",
    "\n",
    "<img src=\"Images/GUIs/gitkraken.png\" style=\"width: 68%;\"/>"
   ]
  },
  {
   "cell_type": "markdown",
   "metadata": {
    "slideshow": {
     "slide_type": "slide"
    }
   },
   "source": [
    "+ GitAhead https://gitahead.github.io/gitahead.com/\n",
    "\n",
    "<img src=\"Images/GUIs/gitahead.jpg\" style=\"width: 68%;\"/>"
   ]
  },
  {
   "cell_type": "markdown",
   "metadata": {
    "slideshow": {
     "slide_type": "slide"
    }
   },
   "source": [
    "+ Magit (for Emacs) https://magit.vc/\n",
    "\n",
    "<img src=\"Images/GUIs/magit.png\" style=\"width: 75%;\"/>"
   ]
  },
  {
   "cell_type": "markdown",
   "metadata": {
    "slideshow": {
     "slide_type": "slide"
    }
   },
   "source": [
    "## 3. Branches"
   ]
  },
  {
   "cell_type": "markdown",
   "metadata": {
    "slideshow": {
     "slide_type": "slide"
    }
   },
   "source": [
    "### Branches\n",
    "\n",
    "+ A lot of the power (and some confusion) in Git comes from branches\n",
    "+ Branches are the *killer* feature of Git, very lightweight compared to other VCS\n",
    "+ This encourages workflows that create branches and merge them very often.\n",
    "\n",
    "##### So, let's try and see some of the Git internals to understand what branches are...\n",
    "  (see https://git-scm.com/book/en/v2/Git-Branching-Branches-in-a-Nutshell)"
   ]
  },
  {
   "cell_type": "markdown",
   "metadata": {
    "slideshow": {
     "slide_type": "slide"
    }
   },
   "source": [
    "+ A *commit* points to a *tree* object, and this to *blob*s\n",
    "    + For us the important part is just the *commit*, which points to a *snapshot* of our work\n",
    "\n",
    "<img src=\"Images/branches/commit-and-tree.png\" style=\"width: 60%;\"/>\t "
   ]
  },
  {
   "cell_type": "markdown",
   "metadata": {
    "slideshow": {
     "slide_type": "slide"
    }
   },
   "source": [
    "+ Creating more *commit*s, keeps a linked list\n",
    "    + (which is basically what you see when you do `git log`)\n",
    "    \n",
    "<img src=\"Images/branches/commits-and-parents.png\" style=\"width: 70%;\"/>  "
   ]
  },
  {
   "cell_type": "markdown",
   "metadata": {
    "slideshow": {
     "slide_type": "slide"
    }
   },
   "source": [
    "+ A *branch* is just a pointer to one of these *commit*s\n",
    "    + *master* is created when you do `git init`, but it is no special\n",
    "    + *HEAD* points to the branch we are working on\n",
    "    \n",
    "<img src=\"Images/branches/branch-and-history.png\" style=\"width: 55%;\"/>\t"
   ]
  },
  {
   "cell_type": "markdown",
   "metadata": {
    "slideshow": {
     "slide_type": "slide"
    }
   },
   "source": [
    "+ Creating a branch \n",
    "    + If we are working in *master* and we do `git branch testing`\n",
    "        + *testing* branch is created, but we are still working on *master*\n",
    "        + so you can see *HEAD* is still pointing to *master* \n",
    "    \n",
    "<img src=\"Images/branches/head-to-master.png\" style=\"width: 45%;\"/>"
   ]
  },
  {
   "cell_type": "markdown",
   "metadata": {
    "slideshow": {
     "slide_type": "slide"
    }
   },
   "source": [
    "+ To work with another branch\n",
    "    + `git checkout testing` makes *HEAD* point to testing\n",
    "        + when you switch branches in Git:\n",
    "            + **files in your working directory will change**. \n",
    "            + **if Git cannot do it cleanly, it will not let you switch at all**.\n",
    "        \n",
    "<img src=\"Images/branches/head-to-testing.png\" style=\"width: 45%;\"/>"
   ]
  },
  {
   "cell_type": "markdown",
   "metadata": {
    "slideshow": {
     "slide_type": "slide"
    }
   },
   "source": [
    "+ Committing to *testing* \n",
    "    + makes *testing* branch move forward\n",
    "    + but *master* branch still points to the same commit\n",
    "\n",
    "<img src=\"Images/branches/advance-testing.png\" style=\"width: 60%;\"/>\t"
   ]
  },
  {
   "cell_type": "markdown",
   "metadata": {
    "slideshow": {
     "slide_type": "slide"
    }
   },
   "source": [
    "+ Changing branches\n",
    "    + `git checkout master` (if *working tree* is *dirty* we won't be able to change branches)\n",
    "    \n",
    "<img src=\"Images/branches/checkout-master.png\" style=\"width: 60%;\"/>\t "
   ]
  },
  {
   "cell_type": "markdown",
   "metadata": {
    "slideshow": {
     "slide_type": "slide"
    }
   },
   "source": [
    "### Branching demo\n",
    "\n",
    "+ In *git-it-cp1*:\n",
    "    + create a new branch *test_branch1* and change to it\n",
    "    + add a line to a file and commit changes\n",
    "    + change back to branch *master* and verify the added line is not present in this branch\n",
    "    + use `git log` to view the history of all branches (should be able to see in first position both branches: *master* and *test_branch1*, plus *HEAD*)\n",
    "\n",
    "https://asciinema.org/a/C8RYb5n0lFitsEw94c2dDifZU?autoplay=1&cols=180&rows=40"
   ]
  },
  {
   "cell_type": "markdown",
   "metadata": {
    "slideshow": {
     "slide_type": "skip"
    }
   },
   "source": [
    "https://asciinema.org/a/0du1PPZviaW6EoQ7DSATEiAqe?autoplay=1&cols=180&rows=40"
   ]
  },
  {
   "cell_type": "markdown",
   "metadata": {
    "slideshow": {
     "slide_type": "slide"
    }
   },
   "source": [
    "### The problem: divergent branches (applies to local and remote branches)\n",
    "\n",
    "+ Earlier we created a *testing* branch and committed some changes. \n",
    "+ Later we went back to the *master* branch. \n",
    "+ At that point, if you commit to master, you end up with divergent branches. \n",
    "+ If you want to incorporate the changes in *testing* to *master*, you might have conflicts (maybe both commits updated the same function).\n",
    "\n",
    "<img src=\"Images/branches/advance-master.png\" style=\"width: 45%;\"/>\t"
   ]
  },
  {
   "cell_type": "markdown",
   "metadata": {
    "slideshow": {
     "slide_type": "slide"
    }
   },
   "source": [
    "### Two possible solutions to divergent branches\n",
    "\n",
    "#### `git merge`\n",
    "\n",
    "Incorporates changes from the named commits (since the time their histories diverged from the current branch) into the current branch.\n",
    "\n",
    "#### `git rebase`  (*look for \"Intermediate/Advanced Git\"*)\n",
    "\n",
    "Apply all changes made in the current branch on top of another branch. (*This is a more advanced command, and you have to be careful with it*)\n",
    "\n"
   ]
  },
  {
   "cell_type": "markdown",
   "metadata": {
    "slideshow": {
     "slide_type": "slide"
    }
   },
   "source": [
    "## 4. Merging "
   ]
  },
  {
   "cell_type": "markdown",
   "metadata": {
    "slideshow": {
     "slide_type": "slide"
    }
   },
   "source": [
    "### Merging\n",
    "\n",
    "+ Fast-forward merges \n",
    "    + the simplest\n",
    "+ No-conflict merges \n",
    "    + very simple, and very common if working on your own\n",
    "+ Merges with conflicts \n",
    "    + very usual when collaborating with others, specially if long time between commits\n"
   ]
  },
  {
   "cell_type": "markdown",
   "metadata": {
    "slideshow": {
     "slide_type": "slide"
    }
   },
   "source": [
    "### Fast-forward \"merge\"\n",
    "\n",
    "+ Imagine you are in a situation like this, where:\n",
    "    + you have two branches, started off the *master* branch, where you made one commit to each.\n",
    "    + you want now to incorporate to *master* the changes done in branch *hotfix*\n",
    "\n",
    "<img src=\"Images/merge/basic-branching-4.png\" style=\"width: 45%;\"/>\t"
   ]
  },
  {
   "cell_type": "markdown",
   "metadata": {
    "slideshow": {
     "slide_type": "slide"
    }
   },
   "source": [
    "### Fast-forward \"merge\" (2)\n",
    "\n",
    "+ Check out the master branch and merge the hotfix branch\n",
    "    + This is a fast-forward merge (i.e. nothing really to merge, not divergent branch)\n",
    "\n",
    "<img src=\"Images/merge/basic-branching-5.png\" style=\"width: 42%;\"/>\t\n",
    "\n",
    "https://asciinema.org/a/nhtnwR2msI8sE4TEf2WwryQSU?autoplay=1&cols=180&rows=40  "
   ]
  },
  {
   "cell_type": "markdown",
   "metadata": {
    "slideshow": {
     "slide_type": "skip"
    }
   },
   "source": [
    "https://asciinema.org/a/ZbFhHkGvVaIGWF3HiF9ZiSyUG?autoplay=1&cols=180&rows=40  "
   ]
  },
  {
   "cell_type": "markdown",
   "metadata": {
    "slideshow": {
     "slide_type": "slide"
    }
   },
   "source": [
    "### No-conflicts merge\n",
    "\n",
    "+ Following from the previous situation:\n",
    "    + you now have a branch *iss53* that has diverged from the *master* branch\n",
    "    + a \"fast-forward\" is not possible when incorporating those changes to *master*\n",
    "    \n",
    "<img src=\"Images/merge/basic-branching-6.png\" style=\"width: 48%;\"/>\t"
   ]
  },
  {
   "cell_type": "markdown",
   "metadata": {
    "slideshow": {
     "slide_type": "slide"
    }
   },
   "source": [
    "### No-conflicts merge (2)\n",
    "\n",
    "+ A `git merge` command will have to work harder now to find:\n",
    "    + which commit is common to both lines\n",
    "    + what changes were made in each branch so as to collect all changes\n",
    "    + if changes in, e.g. different files/functions, merge possible w.o. conflicts  \n",
    "\n",
    "<img src=\"Images/merge/basic-merging-1.png\" style=\"width: 45%;\"/>\t"
   ]
  },
  {
   "cell_type": "markdown",
   "metadata": {
    "slideshow": {
     "slide_type": "slide"
    }
   },
   "source": [
    "### No-conflicts merge (3)\n",
    "\n",
    "+ And we end up with a new \"merge\" commit in *master*:\n",
    "\n",
    "<img src=\"Images/merge/basic-merging-2.png\" style=\"width: 45%;\"/>\t\n",
    "\n",
    "**Note**: remember that `git merge iss53` means: merge branch iss53 to my current branch (i.e. you want to issue the merge command with the destination branch checked-out)\n",
    "\n",
    "https://asciinema.org/a/9oGkREQonLUPQTkfxZQebdipL?autoplay=1&cols=180&rows=40"
   ]
  },
  {
   "cell_type": "markdown",
   "metadata": {
    "slideshow": {
     "slide_type": "skip"
    }
   },
   "source": [
    "https://asciinema.org/a/4SIf3zhP3K0ds9I5SdmHXUe8d?autoplay=1&cols=180&rows=40"
   ]
  },
  {
   "cell_type": "markdown",
   "metadata": {
    "slideshow": {
     "slide_type": "slide"
    }
   },
   "source": [
    "### Merge with conflicts\n",
    "\n",
    "#### When git cannot merge automatically, it will tell you:\n",
    "``` \n",
    "$ git merge iss53\n",
    "Auto-merging index.html\n",
    "CONFLICT (content): Merge conflict in index.html\n",
    "Automatic merge failed; fix conflicts and then commit the result.\n",
    "```\n",
    "\n",
    "#### The conflicting files will have conflict-resolution markers:\n",
    "```\n",
    "<<<<<<< HEAD:index.html\n",
    "<div id=\"footer\">contact : email.support@github.com</div>\n",
    "=======\n",
    "<div id=\"footer\">contact us at support@github.com</div>\n",
    ">>>>>>> iss53:index.html\n",
    "```\n"
   ]
  },
  {
   "cell_type": "markdown",
   "metadata": {
    "slideshow": {
     "slide_type": "slide"
    }
   },
   "source": [
    "### Merge with conflicts (2)\n",
    "\n",
    "+ To resolve the conflict by hand:\n",
    "    + just edit the file with your usual text editor, leaving the correct resolution (and no markers)\n",
    "    + run `git commit` when all conflicts have been resolved\n",
    "\n",
    "   https://asciinema.org/a/kc1x2LpQM0e2g1Jw2EDWGFTHm?autoplay=1&cols=180&rows=40\n",
    "   \n",
    "+ But you should really learn how to use an external tool (peek into \"Intermediate Git\") \n",
    "    + `git mergetool` will tell you options and how to configure git\n",
    "    + GitAhead demo: https://www.youtube.com/watch?v=W-FHwUwE84M \n",
    "    + Emacs + Magit + Ediff demo: https://youtu.be/S86xsx_NzHc\n",
    "    \n",
    "\n"
   ]
  },
  {
   "cell_type": "markdown",
   "metadata": {
    "slideshow": {
     "slide_type": "skip"
    }
   },
   "source": [
    "   https://asciinema.org/a/MxjPsupBk3toHCQsOuEQBKbMF?autoplay=1&cols=180&rows=40\n"
   ]
  },
  {
   "cell_type": "markdown",
   "metadata": {
    "slideshow": {
     "slide_type": "slide"
    }
   },
   "source": [
    "## References\n",
    "\n",
    "+ Git main page: https://git-scm.com/\n",
    "+ Pro Git book: https://git-scm.com/book/en/v2\n",
    "+ Git cheatsheet: https://ndpsoftware.com/git-cheatsheet.html"
   ]
  }
 ],
 "metadata": {
  "@webio": {
   "lastCommId": null,
   "lastKernelId": null
  },
  "celltoolbar": "Slideshow",
  "kernelspec": {
   "display_name": "Python 3",
   "language": "python",
   "name": "python3"
  },
  "language_info": {
   "codemirror_mode": {
    "name": "ipython",
    "version": 3
   },
   "file_extension": ".py",
   "mimetype": "text/x-python",
   "name": "python",
   "nbconvert_exporter": "python",
   "pygments_lexer": "ipython3",
   "version": "3.8.3"
  }
 },
 "nbformat": 4,
 "nbformat_minor": 4
}
