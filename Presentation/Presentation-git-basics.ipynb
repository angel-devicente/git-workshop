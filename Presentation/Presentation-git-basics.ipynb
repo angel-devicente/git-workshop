{
 "cells": [
  {
   "cell_type": "markdown",
   "metadata": {
    "slideshow": {
     "slide_type": "slide"
    }
   },
   "source": [
    "# Git basics\n",
    "\n",
    "### Ángel de Vicente  (*angel.de.vicente@iac.es*)\n",
    "\n",
    "#### Date: November 13,  2020\n"
   ]
  },
  {
   "cell_type": "markdown",
   "metadata": {
    "slideshow": {
     "slide_type": "-"
    }
   },
   "source": [
    "<img src=\"Images/logos/logos_eurocc.png\" style=\"width: 900px;\"/>"
   ]
  },
  {
   "cell_type": "markdown",
   "metadata": {
    "slideshow": {
     "slide_type": "skip"
    }
   },
   "source": [
    "https://github.com/angel-devicente/git-workshop"
   ]
  },
  {
   "cell_type": "markdown",
   "metadata": {
    "slideshow": {
     "slide_type": "slide"
    }
   },
   "source": [
    "## Index\n",
    "\n",
    "1. Git basics\n",
    "2. Git basic usage\n",
    "3. Branches\n",
    "4. Merging\n"
   ]
  },
  {
   "cell_type": "markdown",
   "metadata": {
    "slideshow": {
     "slide_type": "slide"
    }
   },
   "source": [
    "## 1. Git basics"
   ]
  },
  {
   "cell_type": "markdown",
   "metadata": {
    "slideshow": {
     "slide_type": "slide"
    }
   },
   "source": [
    "### Basic concepts:\n",
    "\n",
    "+ What is version control?\n",
    "+ What do we version control? (text vs. binary files)\n",
    "+ Several version control systems (VCS): (*subversion, git, bazaar, ...*)\n",
    "+ You have probably already used a VCS directly or indirectly (e.g. Dropbox, Overleaf)\n",
    "+ Version control main concepts: *commit/checkout, branching, merging*\n",
    "+ Main benefits of version control systems: travelling back in time, reproducibility, collaboration"
   ]
  },
  {
   "cell_type": "markdown",
   "metadata": {
    "slideshow": {
     "slide_type": "slide"
    }
   },
   "source": [
    "### Types of Version Control Systems\n",
    "\n",
    "+ *Manual* VCS (*don't be the one doing this!*)\n",
    "\n",
    "<img src=\"Images/basics/version-control-phdcomics.png\" style=\"width: 30%;\"/>"
   ]
  },
  {
   "cell_type": "markdown",
   "metadata": {
    "slideshow": {
     "slide_type": "slide"
    }
   },
   "source": [
    "+ Local VCS (e.g. `RCS`)\n",
    "\n",
    "<img src=\"Images/basics/local.png\" style=\"width: 40%;\"/>"
   ]
  },
  {
   "cell_type": "markdown",
   "metadata": {
    "slideshow": {
     "slide_type": "slide"
    }
   },
   "source": [
    "+ Centralized VCS (e.g. `Subversion`)\n",
    "\n",
    "<img src=\"Images/basics/centralized.png\" style=\"width: 50%;\"/>"
   ]
  },
  {
   "cell_type": "markdown",
   "metadata": {
    "slideshow": {
     "slide_type": "slide"
    }
   },
   "source": [
    "+ Distributed VCS (e.g. `Git`)\n",
    "\n",
    "<img src=\"Images/basics/distributed.png\" style=\"width: 38%;\"/>"
   ]
  },
  {
   "cell_type": "markdown",
   "metadata": {
    "slideshow": {
     "slide_type": "slide"
    }
   },
   "source": [
    "### Setting up git"
   ]
  },
  {
   "cell_type": "code",
   "execution_count": 3,
   "metadata": {
    "slideshow": {
     "slide_type": "-"
    }
   },
   "outputs": [
    {
     "name": "stdout",
     "output_type": "stream",
     "text": [
      "git version 2.28.0\r\n"
     ]
    }
   ],
   "source": [
    "! git --version"
   ]
  },
  {
   "cell_type": "markdown",
   "metadata": {
    "slideshow": {
     "slide_type": "-"
    }
   },
   "source": [
    "+ *git config* (details at: https://git-scm.com/book/en/v2/Getting-Started-First-Time-Git-Setup)\n",
    "+ Configuration variables stored in three different places:\n",
    "    + */etc/gitconfig* file (*--system* option)\n",
    "    + *~/.gitconfig* or *~/.config/git/config* file (*--global* option)\n",
    "    + *config* file in the Git directory (*--local* option)"
   ]
  },
  {
   "cell_type": "markdown",
   "metadata": {
    "slideshow": {
     "slide_type": "slide"
    }
   },
   "source": [
    "### Setting up git (2)\n",
    "\n",
    "+ Basic settings\n",
    "```bash\n",
    "$ git config --global user.name \"John Doe\"\n",
    "$ git config --global user.email johndoe@example.com\n",
    "```\n",
    "\n",
    "+ Many other options, e.g:\n",
    "```bash\n",
    "$ git config --global core.editor emacs\n",
    "$ git config --global color.ui \"auto\"\n",
    "```    "
   ]
  },
  {
   "cell_type": "markdown",
   "metadata": {
    "slideshow": {
     "slide_type": "slide"
    }
   },
   "source": [
    "#### Sample settings"
   ]
  },
  {
   "cell_type": "code",
   "execution_count": 7,
   "metadata": {
    "slideshow": {
     "slide_type": "-"
    }
   },
   "outputs": [
    {
     "name": "stdout",
     "output_type": "stream",
     "text": [
      "user.email=angel.de.vicente@iac.es\r\n",
      "user.name=Angel de Vicente\r\n",
      "color.ui=true\r\n",
      "color.status=auto\r\n",
      "color.branch=auto\r\n",
      "credential.helper=cache --timeout=28800\r\n",
      "diff.jupyternotebook.command=git-nbdiffdriver diff\r\n",
      "merge.jupyternotebook.driver=git-nbmergedriver merge %O %A %B %L %P\r\n",
      "merge.jupyternotebook.name=jupyter notebook merge driver\r\n",
      "difftool.nbdime.cmd=git-nbdifftool diff \"$LOCAL\" \"$REMOTE\" \"$BASE\"\r\n",
      "difftool.prompt=false\r\n",
      "mergetool.nbdime.cmd=git-nbmergetool merge \"$BASE\" \"$LOCAL\" \"$REMOTE\" \"$MERGED\"\r\n",
      "mergetool.prompt=false\r\n",
      "pull.rebase=false\r\n",
      "core.repositoryformatversion=0\r\n",
      "core.filemode=true\r\n",
      "core.bare=false\r\n",
      "core.logallrefupdates=true\r\n",
      "remote.origin.url=https://github.com/angel-devicente/git-workshop.git\r\n",
      "remote.origin.fetch=+refs/heads/*:refs/remotes/origin/*\r\n",
      "remote.pushdefault=origin\r\n",
      "branch.master.remote=origin\r\n",
      "branch.master.merge=refs/heads/master\r\n"
     ]
    }
   ],
   "source": [
    "! git config --list  ## --show-origin"
   ]
  },
  {
   "cell_type": "markdown",
   "metadata": {
    "slideshow": {
     "slide_type": "slide"
    }
   },
   "source": [
    "### Getting help"
   ]
  },
  {
   "cell_type": "code",
   "execution_count": 19,
   "metadata": {
    "slideshow": {
     "slide_type": "-"
    }
   },
   "outputs": [
    {
     "name": "stdout",
     "output_type": "stream",
     "text": [
      "usage: git [--version] [--help] [-C <path>] [-c <name>=<value>]\r\n",
      "           [--exec-path[=<path>]] [--html-path] [--man-path] [--info-path]\r\n",
      "           [-p | --paginate | -P | --no-pager] [--no-replace-objects] [--bare]\r\n",
      "           [--git-dir=<path>] [--work-tree=<path>] [--namespace=<name>]\r\n",
      "           <command> [<args>]\r\n",
      "\r\n",
      "These are common Git commands used in various situations:\r\n",
      "\r\n",
      "start a working area (see also: git help tutorial)\r\n",
      "   clone             Clone a repository into a new directory\r\n",
      "   init              Create an empty Git repository or reinitialize an existing one\r\n",
      "\r\n",
      "work on the current change (see also: git help everyday)\r\n",
      "   add               Add file contents to the index\r\n",
      "   mv                Move or rename a file, a directory, or a symlink\r\n",
      "   restore           Restore working tree files\r\n",
      "   rm                Remove files from the working tree and from the index\r\n",
      "   sparse-checkout   Initialize and modify the sparse-checkout\r\n"
     ]
    }
   ],
   "source": [
    "! git --help | head -n 18"
   ]
  },
  {
   "cell_type": "code",
   "execution_count": 4,
   "metadata": {
    "slideshow": {
     "slide_type": "slide"
    }
   },
   "outputs": [
    {
     "name": "stdout",
     "output_type": "stream",
     "text": [
      "usage: git status [<options>] [--] <pathspec>...\r\n",
      "\r\n",
      "    -v, --verbose         be verbose\r\n",
      "    -s, --short           show status concisely\r\n",
      "    -b, --branch          show branch information\r\n",
      "    --show-stash          show stash information\r\n",
      "    --ahead-behind        compute full ahead/behind values\r\n",
      "    --porcelain[=<version>]\r\n",
      "                          machine-readable output\r\n",
      "    --long                show status in long format (default)\r\n",
      "    -z, --null            terminate entries with NUL\r\n",
      "    -u, --untracked-files[=<mode>]\r\n",
      "                          show untracked files, optional modes: all, normal, no. (Default: all)\r\n",
      "    --ignored[=<mode>]    show ignored files, optional modes: traditional, matching, no. (Default: traditional)\r\n",
      "    --ignore-submodules[=<when>]\r\n",
      "                          ignore changes to submodules, optional when: all, dirty, untracked. (Default: all)\r\n",
      "    --column[=<style>]    list untracked files in columns\r\n",
      "    --no-renames          do not detect renames\r\n",
      "    -M, --find-renames[=<n>]\r\n",
      "                          detect renames, optionally set similarity index\r\n",
      "\r\n"
     ]
    }
   ],
   "source": [
    "! git status -h"
   ]
  },
  {
   "cell_type": "code",
   "execution_count": 19,
   "metadata": {
    "slideshow": {
     "slide_type": "slide"
    }
   },
   "outputs": [
    {
     "name": "stdout",
     "output_type": "stream",
     "text": [
      "GIT-STATUS(1)                     Git Manual                     GIT-STATUS(1)\r\n",
      "\r\n",
      "NAME\r\n",
      "       git-status - Show the working tree status\r\n",
      "\r\n",
      "SYNOPSIS\r\n",
      "       git status [<options>...] [--] [<pathspec>...]\r\n",
      "\r\n",
      "DESCRIPTION\r\n",
      "       Displays paths that have differences between the index file and the\r\n",
      "       current HEAD commit, paths that have differences between the working\r\n",
      "       tree and the index file, and paths in the working tree that are not\r\n",
      "       tracked by Git (and are not ignored by gitignore(5)). The first are\r\n",
      "       what you would commit by running git commit; the second and third are\r\n",
      "       what you could commit by running git add before running git commit.\r\n",
      "\r\n",
      "OPTIONS\r\n",
      "       -s, --short\r\n",
      "           Give the output in the short-format.\r\n",
      "\r\n",
      "       -b, --branch\r\n",
      "           Show the branch and tracking info even in short-format.\r\n"
     ]
    }
   ],
   "source": [
    "! git status --help | head -n 22"
   ]
  },
  {
   "cell_type": "markdown",
   "metadata": {
    "slideshow": {
     "slide_type": "slide"
    }
   },
   "source": [
    "### Main ideas in Git\n",
    "\n",
    "+ Nearly all operations are local \n",
    "    + *.git* directory keeps all history\n",
    "    + very little that you cannot do when offline\n",
    "+ Integrity\n",
    "    + Everything checksummed before stored\n",
    "    + Hashes: *24b9da6552252987aa493b52f8696cd6d3b00373*\n",
    "\n",
    "+ Snapshots, not differences\n"
   ]
  },
  {
   "cell_type": "markdown",
   "metadata": {
    "slideshow": {
     "slide_type": "slide"
    }
   },
   "source": [
    "+ Delta-based VCS\n",
    "<img src=\"Images/basics/deltas.png\" style=\"width: 800px;\"/>  "
   ]
  },
  {
   "cell_type": "markdown",
   "metadata": {
    "slideshow": {
     "slide_type": "slide"
    }
   },
   "source": [
    "+ Snapshots (Git)\n",
    "<img src=\"Images/basics/snapshots.png\" style=\"width:800px;\"/>"
   ]
  },
  {
   "cell_type": "markdown",
   "metadata": {
    "slideshow": {
     "slide_type": "slide"
    }
   },
   "source": [
    "## 2. Git basic usage "
   ]
  },
  {
   "cell_type": "markdown",
   "metadata": {
    "slideshow": {
     "slide_type": "slide"
    }
   },
   "source": [
    "### Using git as a local VCS \n",
    "\n",
    "<img src=\"Images/basics/local.png\" style=\"width: 40%;\"/>"
   ]
  },
  {
   "cell_type": "markdown",
   "metadata": {
    "slideshow": {
     "slide_type": "slide"
    }
   },
   "source": [
    "### Create a repository \n",
    "\n",
    "#### `git init`"
   ]
  },
  {
   "cell_type": "code",
   "execution_count": 15,
   "metadata": {
    "scrolled": true,
    "slideshow": {
     "slide_type": "-"
    }
   },
   "outputs": [
    {
     "name": "stdout",
     "output_type": "stream",
     "text": [
      "total 12\n",
      "drwxr-xr-x 3 angelv angelv 4096 Oct 28 11:43 .\n",
      "drwxr-xr-x 6 angelv angelv 4096 Oct 28 11:43 ..\n",
      "drwxr-xr-x 7 angelv angelv 4096 Oct 28 11:43 .git\n"
     ]
    }
   ],
   "source": [
    "%%bash\n",
    "\n",
    "cd ../Demos/Repos\n",
    "rm -rf First_Demo ; mkdir First_Demo ; cd First_Demo\n",
    "\n",
    "git init -q\n",
    "ls -al "
   ]
  },
  {
   "cell_type": "markdown",
   "metadata": {
    "slideshow": {
     "slide_type": "slide"
    }
   },
   "source": [
    "+ All repository information goes to .git directory (DO NOT EDIT by hand)"
   ]
  },
  {
   "cell_type": "code",
   "execution_count": 16,
   "metadata": {
    "slideshow": {
     "slide_type": "-"
    }
   },
   "outputs": [
    {
     "name": "stdout",
     "output_type": "stream",
     "text": [
      "branches\n",
      "config\n",
      "description\n",
      "HEAD\n",
      "hooks\n",
      "info\n",
      "objects\n",
      "refs\n"
     ]
    }
   ],
   "source": [
    "%%bash\n",
    "\n",
    "cd ../Demos/Repos\n",
    "ls First_Demo/.git"
   ]
  },
  {
   "cell_type": "markdown",
   "metadata": {
    "slideshow": {
     "slide_type": "slide"
    }
   },
   "source": [
    "### Recording changes\n",
    "\n",
    "+ `git status`\n",
    "+ `git add`\n",
    "+ `git commit`\n",
    "+ `git rm`\n",
    "+ `git mv`"
   ]
  },
  {
   "cell_type": "markdown",
   "metadata": {
    "slideshow": {
     "slide_type": "slide"
    }
   },
   "source": [
    "+ Commiting changes\n",
    "<img src=\"Images/basics/commiting.png\" style=\"width: 90%;\"/>\n"
   ]
  },
  {
   "cell_type": "markdown",
   "metadata": {
    "slideshow": {
     "slide_type": "slide"
    }
   },
   "source": [
    "+ Tracking changes\n",
    "<img src=\"Images/basics/lifecycle.png\" style=\"width: 900px;\"/>\n"
   ]
  },
  {
   "cell_type": "markdown",
   "metadata": {
    "scrolled": false,
    "slideshow": {
     "slide_type": "slide"
    }
   },
   "source": [
    "### Recording changes demo\n",
    "\n",
    "[*demo-1-1.cast*](https://asciinema.org/a/Rff5PnrBC79FMI7ThpbWBLX8D?autoplay=1&cols=180&rows=40)"
   ]
  },
  {
   "cell_type": "markdown",
   "metadata": {
    "slideshow": {
     "slide_type": "slide"
    }
   },
   "source": [
    "### Viewing history\n",
    "\n",
    "+ `git log`\n",
    "+ `git diff`"
   ]
  },
  {
   "cell_type": "markdown",
   "metadata": {
    "slideshow": {
     "slide_type": "-"
    }
   },
   "source": [
    "### Viewing history demo\n",
    "\n",
    "[*demo-1-2.cast*](https://asciinema.org/a/zHPylAmuKN3TWmGhQJiPOidZd?autoplay=1&cols=180&rows=40)"
   ]
  },
  {
   "cell_type": "markdown",
   "metadata": {
    "slideshow": {
     "slide_type": "slide"
    }
   },
   "source": [
    "+ Commit messages are important (*don't do this*)\n",
    "<img src=\"Images/basics/bad_commits.png\" style=\"width: 95%;\"/>"
   ]
  },
  {
   "cell_type": "markdown",
   "metadata": {
    "slideshow": {
     "slide_type": "slide"
    }
   },
   "source": [
    "### Undoing things\n",
    "\n",
    "+ `git commit --amend`\n",
    "+ `git restore --staged CONTRIBUTING.md`\n",
    "+ `git restore README.md` \n",
    "\n"
   ]
  },
  {
   "cell_type": "markdown",
   "metadata": {
    "slideshow": {
     "slide_type": "slide"
    }
   },
   "source": [
    "### Undoing things demo\n",
    "\n",
    "[*demo-1-3.cast*](https://asciinema.org/a/Sq5xBDSbbbdJ1AxdZmz755xaJ?autoplay=1&cols=180&rows=40)\n",
    "\n",
    "+ In older versions of `git`, instead of `git restore` you would use:\n",
    " + `git reset HEAD ...` \n",
    " + and `git checkout ...` \n",
    "\n",
    "    (see examples in https://git-scm.com/book/en/v2/Git-Basics-Undoing-Things)"
   ]
  },
  {
   "cell_type": "markdown",
   "metadata": {
    "slideshow": {
     "slide_type": "slide"
    }
   },
   "source": [
    "###  Command-line vs GUIs\n",
    "\n",
    "+ Command-line lets you:\n",
    "    + access *every* aspect of Git\n",
    "    + can be automated in scripts\n",
    "    + 'lingua franca' \n",
    "    \n",
    "+ GUIs\n",
    "    + the entry barrier for users is lower\n",
    "    + can group common usage patterns\n",
    "    + help with advanced options\n",
    "    + choose your poison: GitKraken, GitAhead, Magit, ...\n",
    "        + https://git-scm.com/download/gui/linux"
   ]
  },
  {
   "cell_type": "markdown",
   "metadata": {
    "slideshow": {
     "slide_type": "slide"
    }
   },
   "source": [
    "+ GitKraken https://www.gitkraken.com/\n",
    "\n",
    "<img src=\"Images/GUIs/gitkraken.png\" style=\"width: 68%;\"/>"
   ]
  },
  {
   "cell_type": "markdown",
   "metadata": {
    "slideshow": {
     "slide_type": "slide"
    }
   },
   "source": [
    "+ GitAhead https://gitahead.github.io/gitahead.com/\n",
    "\n",
    "<img src=\"Images/GUIs/gitahead.jpg\" style=\"width: 68%;\"/>"
   ]
  },
  {
   "cell_type": "markdown",
   "metadata": {
    "slideshow": {
     "slide_type": "slide"
    }
   },
   "source": [
    "+ Magit (for Emacs) https://magit.vc/\n",
    "\n",
    "<img src=\"Images/GUIs/magit.png\" style=\"width: 75%;\"/>"
   ]
  },
  {
   "cell_type": "markdown",
   "metadata": {
    "slideshow": {
     "slide_type": "slide"
    }
   },
   "source": [
    "## 3. Branches"
   ]
  },
  {
   "cell_type": "markdown",
   "metadata": {
    "slideshow": {
     "slide_type": "slide"
    }
   },
   "source": [
    "### Branches\n",
    "\n",
    "+ A lot of the power (and some confusion) in Git comes from branches\n",
    "+ Branches are the *killer* feature of Git, very lightweight compared to other VCS\n",
    "+ This encourages workflows that create branches and merge them very often.\n",
    "\n",
    "##### So, let's try and see some of the Git internals to understand what branches are...\n",
    "  (see https://git-scm.com/book/en/v2/Git-Branching-Branches-in-a-Nutshell)"
   ]
  },
  {
   "cell_type": "markdown",
   "metadata": {
    "slideshow": {
     "slide_type": "slide"
    }
   },
   "source": [
    "+ A *commit* points to a *tree* object, and this to *blob*s\n",
    "    + For us the important part is just the *commit*, which points to a *snapshot* of our work\n",
    "\n",
    "<img src=\"Images/branches/commit-and-tree.png\" style=\"width: 60%;\"/>\t "
   ]
  },
  {
   "cell_type": "markdown",
   "metadata": {
    "slideshow": {
     "slide_type": "slide"
    }
   },
   "source": [
    "+ Creating more *commit*s, keeps a linked list\n",
    "    + (which is basically what you see when you do `git log`)\n",
    "    \n",
    "<img src=\"Images/branches/commits-and-parents.png\" style=\"width: 70%;\"/>  "
   ]
  },
  {
   "cell_type": "markdown",
   "metadata": {
    "slideshow": {
     "slide_type": "slide"
    }
   },
   "source": [
    "+ A *branch* is just a pointer to one of these *commit*s\n",
    "    + *master* is created when you do `git init`, but it is no special\n",
    "    + *HEAD* points to the branch we are working on\n",
    "    \n",
    "<img src=\"Images/branches/branch-and-history.png\" style=\"width: 55%;\"/>\t"
   ]
  },
  {
   "cell_type": "markdown",
   "metadata": {
    "slideshow": {
     "slide_type": "slide"
    }
   },
   "source": [
    "+ Creating a branch \n",
    "    + If we are working in *master* and we do `git branch testing`\n",
    "        + *testing* branch is created, but we are still working on *master*\n",
    "        + so you can see *HEAD* is still pointing to *master* \n",
    "    \n",
    "<img src=\"Images/branches/head-to-master.png\" style=\"width: 45%;\"/>"
   ]
  },
  {
   "cell_type": "markdown",
   "metadata": {
    "slideshow": {
     "slide_type": "slide"
    }
   },
   "source": [
    "+ To work with another branch\n",
    "    + `git checkout testing` makes *HEAD* point to testing\n",
    "        + when you switch branches in Git:\n",
    "            + **files in your working directory will change**. \n",
    "            + **if Git cannot do it cleanly, it will not let you switch at all**.\n",
    "        \n",
    "<img src=\"Images/branches/head-to-testing.png\" style=\"width: 45%;\"/>"
   ]
  },
  {
   "cell_type": "markdown",
   "metadata": {
    "slideshow": {
     "slide_type": "slide"
    }
   },
   "source": [
    "+ Committing to *testing* \n",
    "    + makes *testing* branch move forward\n",
    "    + but *master* branch still points to the same commit\n",
    "\n",
    "<img src=\"Images/branches/advance-testing.png\" style=\"width: 60%;\"/>\t"
   ]
  },
  {
   "cell_type": "markdown",
   "metadata": {
    "slideshow": {
     "slide_type": "slide"
    }
   },
   "source": [
    "+ Changing branches\n",
    "    + `git checkout master` (if *working tree* is *dirty* we won't be able to change branches)\n",
    "    \n",
    "<img src=\"Images/branches/checkout-master.png\" style=\"width: 60%;\"/>\t "
   ]
  },
  {
   "cell_type": "markdown",
   "metadata": {
    "slideshow": {
     "slide_type": "slide"
    }
   },
   "source": [
    "### Branching demo\n",
    "\n",
    "+ In *git-it-cp1*:\n",
    "    + create a new branch *test_branch1* and change to it\n",
    "    + add a line to a file and commit changes\n",
    "    + change back to branch *master* and verify the added line is not present in this branch\n",
    "    + use `git log` to view the history of all branches (should be able to see in first position both branches: *master* and *test_branch1*, plus *HEAD*)\n",
    "    \n",
    "[*demo-1-5.cast*](https://asciinema.org/a/0du1PPZviaW6EoQ7DSATEiAqe?autoplay=1&cols=180&rows=40)\n"
   ]
  },
  {
   "cell_type": "markdown",
   "metadata": {
    "slideshow": {
     "slide_type": "slide"
    }
   },
   "source": [
    "### The problem: divergent branches (applies to local and remote branches)\n",
    "\n",
    "+ Earlier we created a *testing* branch and committed some changes. \n",
    "+ Later we went back to the *master* branch. \n",
    "+ At that point, if you commit to master, you end up with divergent branches. \n",
    "+ If you want to incorporate the changes in *testing* to *master*, you might have conflicts (maybe both commits updated the same function).\n",
    "\n",
    "<img src=\"Images/branches/advance-master.png\" style=\"width: 45%;\"/>\t"
   ]
  },
  {
   "cell_type": "markdown",
   "metadata": {
    "slideshow": {
     "slide_type": "slide"
    }
   },
   "source": [
    "### Two possible solutions to divergent branches\n",
    "\n",
    "#### `git merge`\n",
    "\n",
    "Incorporates changes from the named commits (since the time their histories diverged from the current branch) into the current branch.\n",
    "\n",
    "#### `git rebase`  (*look for \"Intermediate/Advanced Git\"*)\n",
    "\n",
    "Apply all changes made in the current branch on top of another branch. (*This is a more advanced command, and you have to be careful with it*)\n",
    "\n"
   ]
  },
  {
   "cell_type": "markdown",
   "metadata": {
    "slideshow": {
     "slide_type": "slide"
    }
   },
   "source": [
    "## 4. Merging "
   ]
  },
  {
   "cell_type": "markdown",
   "metadata": {
    "slideshow": {
     "slide_type": "slide"
    }
   },
   "source": [
    "### Merging\n",
    "\n",
    "+ Fast-forward merges \n",
    "    + the simplest\n",
    "+ No-conflict merges \n",
    "    + very simple, and very common if working on your own\n",
    "+ Merges with conflicts \n",
    "    + very usual when collaborating with others, specially if long time between commits\n"
   ]
  },
  {
   "cell_type": "markdown",
   "metadata": {
    "slideshow": {
     "slide_type": "slide"
    }
   },
   "source": [
    "### Fast-forward \"merge\"\n",
    "\n",
    "+ Imagine you are in a situation like this, where:\n",
    "    + you have two branches, started off the *master* branch, where you made one commit to each.\n",
    "    + you want now to incorporate to *master* the changes done in branch *hotfix*\n",
    "\n",
    "<img src=\"Images/merge/basic-branching-4.png\" style=\"width: 45%;\"/>\t"
   ]
  },
  {
   "cell_type": "markdown",
   "metadata": {
    "slideshow": {
     "slide_type": "slide"
    }
   },
   "source": [
    "### Fast-forward \"merge\" (2)\n",
    "\n",
    "+ Check out the master branch and merge the hotfix branch\n",
    "    + This is a fast-forward merge (i.e. nothing really to merge, not divergent branch)\n",
    "\n",
    "<img src=\"Images/merge/basic-branching-5.png\" style=\"width: 42%;\"/>\t\n",
    "\n",
    "[*demo-1-7.cast*](https://asciinema.org/a/ZbFhHkGvVaIGWF3HiF9ZiSyUG?autoplay=1&cols=180&rows=40)  \n",
    "\n"
   ]
  },
  {
   "cell_type": "markdown",
   "metadata": {
    "slideshow": {
     "slide_type": "slide"
    }
   },
   "source": [
    "### No-conflicts merge\n",
    "\n",
    "+ Following from the previous situation:\n",
    "    + you now have a branch *iss53* that has diverged from the *master* branch\n",
    "    + a \"fast-forward\" is not possible when incorporating those changes to *master*\n",
    "    \n",
    "<img src=\"Images/merge/basic-branching-6.png\" style=\"width: 48%;\"/>\t"
   ]
  },
  {
   "cell_type": "markdown",
   "metadata": {
    "slideshow": {
     "slide_type": "slide"
    }
   },
   "source": [
    "### No-conflicts merge (2)\n",
    "\n",
    "+ A `git merge` command will have to work harder now to find:\n",
    "    + which commit is common to both lines\n",
    "    + what changes were made in each branch so as to collect all changes\n",
    "    + if changes in, e.g. different files/functions, merge possible w.o. conflicts  \n",
    "\n",
    "<img src=\"Images/merge/basic-merging-1.png\" style=\"width: 45%;\"/>\t"
   ]
  },
  {
   "cell_type": "markdown",
   "metadata": {
    "slideshow": {
     "slide_type": "slide"
    }
   },
   "source": [
    "### No-conflicts merge (3)\n",
    "\n",
    "+ And we end up with a new \"merge\" commit in *master*:\n",
    "\n",
    "<img src=\"Images/merge/basic-merging-2.png\" style=\"width: 45%;\"/>\t\n",
    "\n",
    "**Note**: remember that `git merge iss53` means: merge branch iss53 to my current branch (i.e. you want to issue the merge command with the destination branch checked-out)\n",
    "\n",
    "[*demo-1-8.cast*](https://asciinema.org/a/4SIf3zhP3K0ds9I5SdmHXUe8d?autoplay=1&cols=180&rows=40)"
   ]
  },
  {
   "cell_type": "markdown",
   "metadata": {
    "slideshow": {
     "slide_type": "slide"
    }
   },
   "source": [
    "### Merge with conflicts\n",
    "\n",
    "#### When git cannot merge automatically, it will tell you:\n",
    "``` \n",
    "$ git merge iss53\n",
    "Auto-merging index.html\n",
    "CONFLICT (content): Merge conflict in index.html\n",
    "Automatic merge failed; fix conflicts and then commit the result.\n",
    "```\n",
    "\n",
    "#### The conflicting files will have conflict-resolution markers:\n",
    "```\n",
    "<<<<<<< HEAD:index.html\n",
    "<div id=\"footer\">contact : email.support@github.com</div>\n",
    "=======\n",
    "<div id=\"footer\">contact us at support@github.com</div>\n",
    ">>>>>>> iss53:index.html\n",
    "```\n"
   ]
  },
  {
   "cell_type": "markdown",
   "metadata": {
    "slideshow": {
     "slide_type": "slide"
    }
   },
   "source": [
    "### Merge with conflicts (2)\n",
    "\n",
    "+ To resolve the conflict by hand:\n",
    "    + just edit the file with your usual text editor, leaving the correct resolution (and no markers)\n",
    "    + run `git commit` when all conflicts have been resolved\n",
    "\n",
    "   [*demo-1-9.cast*](https://asciinema.org/a/MxjPsupBk3toHCQsOuEQBKbMF?autoplay=1&cols=180&rows=40)\n",
    "   \n",
    "+ But you should really learn how to use an external tool (peek into \"Intermediate Git\") \n",
    "    + `git mergetool` will tell you options and how to configure git\n",
    "    + GitAhead demo: https://www.youtube.com/watch?v=W-FHwUwE84M \n",
    "    + Emacs + Magit + Ediff demo: https://youtu.be/S86xsx_NzHc\n",
    "    \n",
    "\n"
   ]
  },
  {
   "cell_type": "markdown",
   "metadata": {
    "slideshow": {
     "slide_type": "slide"
    }
   },
   "source": [
    "## References\n",
    "\n",
    "+ [Git main page](https://git-scm.com/)\n",
    "+ [Pro Git book](https://git-scm.com/book/en/v2)\n",
    "+ [Git cheatsheet](https://ndpsoftware.com/git-cheatsheet.html)"
   ]
  }
 ],
 "metadata": {
  "@webio": {
   "lastCommId": null,
   "lastKernelId": null
  },
  "celltoolbar": "Slideshow",
  "kernelspec": {
   "display_name": "Python 3",
   "language": "python",
   "name": "python3"
  },
  "language_info": {
   "codemirror_mode": {
    "name": "ipython",
    "version": 3
   },
   "file_extension": ".py",
   "mimetype": "text/x-python",
   "name": "python",
   "nbconvert_exporter": "python",
   "pygments_lexer": "ipython3",
   "version": "3.8.3"
  }
 },
 "nbformat": 4,
 "nbformat_minor": 4
}
