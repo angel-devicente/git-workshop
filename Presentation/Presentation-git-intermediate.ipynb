{
 "cells": [
  {
   "cell_type": "markdown",
   "metadata": {
    "slideshow": {
     "slide_type": "slide"
    }
   },
   "source": [
    "# Intermediate Git \n",
    "\n",
    "### Ángel de Vicente  (*angel.de.vicente@iac.es*)\n",
    "\n",
    "#### Date: November 20,  2020"
   ]
  },
  {
   "cell_type": "markdown",
   "metadata": {},
   "source": [
    "<img src=\"Images/logos/logos_eurocc.png\" style=\"width: 900px;\"/>"
   ]
  },
  {
   "cell_type": "markdown",
   "metadata": {
    "slideshow": {
     "slide_type": "slide"
    }
   },
   "source": [
    "## Index\n",
    "\n",
    "1. Git basics quick review\n",
    "2. Git remotes \n",
    "3. Collaboration with Git (GitHub, GitLab, OverLeaf, etc.)\n",
    "4. Peek into advanced Git\n",
    "\n"
   ]
  },
  {
   "cell_type": "markdown",
   "metadata": {
    "slideshow": {
     "slide_type": "slide"
    }
   },
   "source": [
    "## 1. Git basics quick review \n",
    "\n",
    "+ In the \"Git basics\" talk we covered the basics to use Git individually \n",
    "\n",
    "<img src=\"Images/basics/local.png\" style=\"width: 40%;\"/>"
   ]
  },
  {
   "cell_type": "markdown",
   "metadata": {
    "slideshow": {
     "slide_type": "slide"
    }
   },
   "source": [
    "## Git basics quick review (2)\n",
    "\n",
    "+ Git setup\n",
    "+ Basic commands: `status, add, rm, mv, commit, log, diff`\n",
    "+ Branches basic commands: `branch, checkout, merge`"
   ]
  },
  {
   "cell_type": "markdown",
   "metadata": {
    "slideshow": {
     "slide_type": "slide"
    }
   },
   "source": [
    "## Git basics *leftovers*\n",
    "\n",
    "+ Revisiting `commit --amend`. \n",
    "  + Careful with this (and other commands that modify your history). **Do not use on public repositories** [*demo-1-3.cast*](https://asciinema.org/a/Sq5xBDSbbbdJ1AxdZmz755xaJ?autoplay=1&cols=180&rows=40)"
   ]
  },
  {
   "cell_type": "markdown",
   "metadata": {
    "slideshow": {
     "slide_type": "fragment"
    }
   },
   "source": [
    "+ Usefulness of *hunks* \n",
    "  + very simple with Git clients, though possible in the terminal as well\n",
    "\n",
    "+ **Learn** to use merges with a tool. \n",
    "  + *Demo of merge with ediff*\n",
    "  \n",
    "[*demo-merge-ediff.cast*](https://asciinema.org/a/2voOiDLtVmoamAOfyVBbxrp08?autoplay=1&cols=160&rows=50)"
   ]
  },
  {
   "cell_type": "markdown",
   "metadata": {
    "slideshow": {
     "slide_type": "slide"
    }
   },
   "source": [
    "## 2. Git remotes "
   ]
  },
  {
   "cell_type": "markdown",
   "metadata": {
    "slideshow": {
     "slide_type": "slide"
    }
   },
   "source": [
    "+ Distributed VCS (e.g. `Git`)\n",
    "\n",
    "<img src=\"Images/basics/distributed.png\" style=\"width: 38%;\"/>"
   ]
  },
  {
   "cell_type": "markdown",
   "metadata": {
    "slideshow": {
     "slide_type": "slide"
    }
   },
   "source": [
    "### Remote repositories\n",
    "\n",
    "+ Remote repositories are versions of your project that are hosted:\n",
    "    + on the Internet\n",
    "    + or more generally in the network somewhere (even in your local machine)\n",
    "+ Crucial for collaborating with others:\n",
    "    + pushing and pulling data from remotes\n",
    "+ GitHub, GitLab, Bitbucket, etc. are on-line remotes with:\n",
    "    + extras for collaboration\n",
    "    + features for code development (e.g. CI/CD)\n",
    "    "
   ]
  },
  {
   "cell_type": "markdown",
   "metadata": {
    "slideshow": {
     "slide_type": "slide"
    }
   },
   "source": [
    "### Remote Branches\n",
    "\n",
    "If you read https://git-scm.com/book/en/v2/Git-Branching-Remote-Branches, you get all the details, but it can be a bit confusing. Most of the time, you just need three concepsts:\n",
    "\n",
    "+ Remote branch: a branch in a **remote** repository, for example:\n",
    "    + GitHub, \n",
    "    + a repository in another PC of yours, \n",
    "    + another directory in the same machine \n",
    "+ Remote-tracking branch: a **local** *bookmark* pointing to a remote branch\n",
    "    + can become out-of-date if the remote branch gets new commits\n",
    "+ Tracking branch: a **local** branch, linking the *local* branch to the *remote* branch.\n"
   ]
  },
  {
   "cell_type": "markdown",
   "metadata": {
    "slideshow": {
     "slide_type": "slide"
    }
   },
   "source": [
    "### Basic remotes commands\n",
    "\n",
    "+ `git remote ...`\n",
    "    + `-v` `add` `show` `rename` `remove`\n",
    "+ `git ...`\n",
    "    + `clone`  \n",
    "    + `pull` \n",
    "    + `push`\n",
    "    + `fetch` \n",
    "    + `merge`\n",
    "\n"
   ]
  },
  {
   "cell_type": "markdown",
   "metadata": {
    "slideshow": {
     "slide_type": "slide"
    }
   },
   "source": [
    "+ `git clone` will take the remote repository in *git.ourcompany.com* and copy it to your local repository.\n",
    "    + it will create remote-tracking branches (here *origin/master*) \n",
    "    + it will create and checkout a *local* tracking branch named *master*, (only one local branch is created, linked to the currently active branch in the remote repository).  \n",
    "    \n",
    "<img src=\"Images/branches/remote-branches-1.png\" style=\"width: 40%;\"/>\t"
   ]
  },
  {
   "cell_type": "code",
   "execution_count": 22,
   "metadata": {
    "slideshow": {
     "slide_type": "skip"
    }
   },
   "outputs": [],
   "source": [
    "%%bash\n",
    "\n",
    "cd ../Demos/Repos\n",
    "\n",
    "if [ ! -d git-it-electron ] ; then\n",
    "    git clone https://github.com/jlord/git-it-electron.git\n",
    "fi    "
   ]
  },
  {
   "cell_type": "code",
   "execution_count": 1,
   "metadata": {
    "slideshow": {
     "slide_type": "slide"
    }
   },
   "outputs": [
    {
     "name": "stdout",
     "output_type": "stream",
     "text": [
      "origin\thttps://github.com/jlord/git-it-electron.git (fetch)\n",
      "origin\thttps://github.com/jlord/git-it-electron.git (push)\n"
     ]
    }
   ],
   "source": [
    "%%bash\n",
    "\n",
    "# git clone https://github.com/jlord/git-it-electron.git\n",
    "\n",
    "cd ../Demos/Repos/git-it-electron\n",
    "git remote -v  "
   ]
  },
  {
   "cell_type": "code",
   "execution_count": 10,
   "metadata": {
    "slideshow": {
     "slide_type": "fragment"
    }
   },
   "outputs": [
    {
     "name": "stdout",
     "output_type": "stream",
     "text": [
      "* remote origin\n",
      "  Fetch URL: https://github.com/jlord/git-it-electron.git\n",
      "  Push  URL: https://github.com/jlord/git-it-electron.git\n",
      "  HEAD branch: master\n",
      "  Remote branches:\n",
      "    IUTInfoAix-M2105-french-translation      tracked\n",
      "    dependabot/npm_and_yarn/handlebars-4.3.0 tracked\n",
      "    fix-menu                                 tracked\n",
      "    lang-tweaks                              tracked\n",
      "    master                                   tracked\n",
      "  Local branch configured for 'git pull':\n",
      "    master merges with remote master\n",
      "  Local ref configured for 'git push':\n",
      "    master pushes to master (up to date)\n"
     ]
    }
   ],
   "source": [
    "%%bash\n",
    "\n",
    "cd ../Demos/Repos/git-it-electron\n",
    "git remote show origin"
   ]
  },
  {
   "cell_type": "code",
   "execution_count": 14,
   "metadata": {
    "slideshow": {
     "slide_type": "slide"
    }
   },
   "outputs": [
    {
     "name": "stdout",
     "output_type": "stream",
     "text": [
      "origin\thttps://github.com/angel-devicente/git-it-electron.git (fetch)\n",
      "origin\thttps://github.com/angel-devicente/git-it-electron.git (push)\n",
      "\n",
      "* master\n",
      "  remotes/origin/HEAD -> origin/master\n",
      "  remotes/origin/IUTInfoAix-M2105-french-translation\n",
      "  remotes/origin/dependabot/npm_and_yarn/handlebars-4.3.0\n",
      "  remotes/origin/fix-menu\n",
      "  remotes/origin/lang-tweaks\n",
      "  remotes/origin/master\n",
      "\n",
      "* master b992ccb [origin/master] Added FORKED-COPY.md\n"
     ]
    }
   ],
   "source": [
    "%%bash\n",
    "\n",
    "cd ../Demos/Repos/git-it-cp2\n",
    "git remote -vv\n",
    "echo\n",
    "git branch --all\n",
    "echo\n",
    "git branch -vv"
   ]
  },
  {
   "cell_type": "markdown",
   "metadata": {
    "slideshow": {
     "slide_type": "slide"
    }
   },
   "source": [
    "+ Remote and local repositories can become unsynchronized\n",
    "    + Here there were commits in the local branch and the remote branch\n",
    "    + Note that the remote-tracking branch *origin/master* doesn't move (until you use `git fetch` your view of the remote repository is out-of-date)\n",
    "    \n",
    "<img src=\"Images/branches/remote-branches-2.png\" style=\"width: 55%;\"/>\t"
   ]
  },
  {
   "cell_type": "markdown",
   "metadata": {
    "slideshow": {
     "slide_type": "slide"
    }
   },
   "source": [
    "+ `git fetch` will synchronize your remote-tracking branch\n",
    "    + at this point *origin/master* and *master* have diverged (will have to use `git merge` or similar)\n",
    "    \n",
    "<img src=\"Images/branches/remote-branches-3.png\" style=\"width: 50%;\"/>\t"
   ]
  },
  {
   "cell_type": "markdown",
   "metadata": {
    "slideshow": {
     "slide_type": "slide"
    }
   },
   "source": [
    "+ You can have many remotes\n",
    "\n",
    "<img src=\"Images/branches/remote-branches-4.png\" style=\"width: 55%;\"/>\t"
   ]
  },
  {
   "cell_type": "markdown",
   "metadata": {
    "slideshow": {
     "slide_type": "slide"
    }
   },
   "source": [
    "+ ... `git fetch` to synchronize their state to your repository\n",
    "\n",
    "<img src=\"Images/branches/remote-branches-5.png\" style=\"width: 60%;\"/>\t"
   ]
  },
  {
   "cell_type": "markdown",
   "metadata": {
    "slideshow": {
     "slide_type": "slide"
    }
   },
   "source": [
    "+ You can `fetch/merge` or `pull` from remote-tracking branches without creating local branches\n",
    "+ If you want to work (and perhaps contribute) to a remote branch, you can create a local branch out of it:\n",
    "    + `git checkout <branch>` (if no name conflict, it will just create a tracking branch)\n",
    "    + `git checkout -b <branch> --track <remote/branch>` (specific, in case there are name conflicts)\n",
    "    \n",
    "    \n",
    "#### Demo \n",
    " \n",
    " [*demo-1-6.cast*](https://asciinema.org/a/vMsVzm61VlAC2TI9BBIMjWQJH?&autoplay=1&cols=180&rows=45)  (tracking branches, and \"local\" remotes)\n",
    " "
   ]
  },
  {
   "cell_type": "markdown",
   "metadata": {
    "slideshow": {
     "slide_type": "slide"
    }
   },
   "source": [
    "## 3. Collaboration with Git"
   ]
  },
  {
   "cell_type": "markdown",
   "metadata": {
    "slideshow": {
     "slide_type": "slide"
    }
   },
   "source": [
    "### Getting started with GitHub (similar for GitLab, Bitbucket, etc.)\n",
    "\n",
    "+ Login to your GitHub account\n",
    "+ Two ways to get a new repository:     \n",
    "    + Create a new repository\n",
    "    + *Fork* an existing repository"
   ]
  },
  {
   "cell_type": "markdown",
   "metadata": {
    "slideshow": {
     "slide_type": "slide"
    }
   },
   "source": [
    "### Create a new repository in GitHub (same idea for GitLab, Bitbucket, etc.)\n",
    "\n",
    "+ Create an empty repository in GitHub ...\n",
    "   \n",
    "<img src=\"Images/github/new_repo.png\" style=\"width: 40%;\"/>   "
   ]
  },
  {
   "cell_type": "markdown",
   "metadata": {
    "slideshow": {
     "slide_type": "slide"
    }
   },
   "source": [
    "+ ... and then follow the instructions given by GitHub (reproduced below).\n",
    "    + all steps should be familiar \n",
    "    + make sure you understand why *git push -u origin master*\n",
    "    + what happens if you just use *git push* as in the previous demo?\n",
    "        \n",
    "\n",
    "```\n",
    "echo \"# git-it-test\" >> README.md\n",
    "git init\n",
    "git add README.md\n",
    "git commit -m \"first commit\"\n",
    "git remote add origin https://github.com/angel-devicente/git-it-test.git\n",
    "git push -u origin master\n",
    "```"
   ]
  },
  {
   "cell_type": "markdown",
   "metadata": {
    "slideshow": {
     "slide_type": "slide"
    }
   },
   "source": [
    "### *Fork*  (GitHub/GitLab/etc. feature) a repository from GitHub into your account\n",
    "\n",
    "+ Fork the repository *git-it-electron* \n",
    "   (https://github.com/jlord/git-it-electron)\n",
    "   \n",
    "<img src=\"Images/github/fork-github.png\" style=\"width: 68%;\"/>   "
   ]
  },
  {
   "cell_type": "markdown",
   "metadata": {
    "slideshow": {
     "slide_type": "slide"
    }
   },
   "source": [
    "### *Clone* your newly *forked* repository\n",
    "\n",
    "<img src=\"Images/github/clone-github.png\" style=\"width: 68%;\"/>"
   ]
  },
  {
   "cell_type": "code",
   "execution_count": 11,
   "metadata": {
    "slideshow": {
     "slide_type": "skip"
    }
   },
   "outputs": [],
   "source": [
    "%%bash\n",
    "\n",
    "cd ../Demos/Repos\n",
    "\n",
    "# USE YOUR forked repository, not mine!  \n",
    "# \n",
    "# git clone https://github.com/angel-devicente/git-it-electron.git  \n",
    "# fatal: destination path 'git-it-electron' already exists and is not an empty directory.\n",
    "\n",
    "if [ ! -d git-it-cp1 ] ; then\n",
    "    git clone https://github.com/angel-devicente/git-it-electron.git git-it-cp1 \n",
    "fi"
   ]
  },
  {
   "cell_type": "code",
   "execution_count": 2,
   "metadata": {
    "slideshow": {
     "slide_type": "slide"
    }
   },
   "outputs": [
    {
     "name": "stdout",
     "output_type": "stream",
     "text": [
      "origin\thttps://github.com/angel-devicente/git-it-electron.git (fetch)\n",
      "origin\thttps://github.com/angel-devicente/git-it-electron.git (push)\n"
     ]
    }
   ],
   "source": [
    "%%bash\n",
    "\n",
    "# git clone https://github.com/angel-devicente/git-it-electron.git git-it-cp1\n",
    "\n",
    "cd ../Demos/Repos/git-it-cp1\n",
    "\n",
    "git remote -v"
   ]
  },
  {
   "cell_type": "markdown",
   "metadata": {
    "slideshow": {
     "slide_type": "slide"
    }
   },
   "source": [
    "+ Create a new file in the git-it-cp1 repository and *push* it to GitHub\n",
    "\n",
    "\n",
    "<img src=\"Images/github/pushed.png\" style=\"width: 45%;\"/>\n"
   ]
  },
  {
   "cell_type": "markdown",
   "metadata": {
    "slideshow": {
     "slide_type": "slide"
    }
   },
   "source": [
    "### Granting collaborators access in GitHub\n",
    "\n",
    "<img src=\"Images/github/access.png\" style=\"width: 50%;\"/>"
   ]
  },
  {
   "cell_type": "markdown",
   "metadata": {
    "slideshow": {
     "slide_type": "slide"
    }
   },
   "source": [
    "### Collaborating in GitHub\n",
    "\n",
    "+ The commands `fetch`/`merge` and `pull` are useful when collaborating with 'others'\n",
    "    + another collaborator has `push`ed changes to the repository that you want to get in your local copy\n",
    "    + you want to synchronize your own changes in different computers\n",
    "    + you want to get changes from another repository branch \n",
    "    \n",
    "    "
   ]
  },
  {
   "cell_type": "code",
   "execution_count": 13,
   "metadata": {
    "slideshow": {
     "slide_type": "skip"
    }
   },
   "outputs": [],
   "source": [
    "%%bash\n",
    "\n",
    "cd ../Demos/Repos\n",
    "if [ ! -d git-it-cp2 ] ; then\n",
    "    git clone https://github.com/angel-devicente/git-it-electron.git git-it-cp2 \n",
    "fi"
   ]
  },
  {
   "cell_type": "markdown",
   "metadata": {
    "slideshow": {
     "slide_type": "slide"
    }
   },
   "source": [
    "### GitHub collaboration demo (simplified to collaborate with ourselves)\n",
    "\n",
    "+ [*demo-1-4.cast*](https://asciinema.org/a/9UTZj3TVwXm6jpftZ2ZcOdk5d?autoplay=1&cols=180&rows=40)\n",
    "\n",
    "  + Clone a second copy of `git-it-electron`, now to directory `git-it-cp2` \n",
    "     * `git clone https://github.com/angel-devicente/git-it-electron.git git-it-cp2`\n",
    "  + As *cp1* I make some changes and `push` to GitHub. Later, as *cp2* we `pull` those changes.\n",
    "  + Then, as *cp2* I make some changes and `push` to GitHub. Later, as *cp1* I:\n",
    "     + first `fetch` the changes, so I can review them\n",
    "     + when happy with introducing those changes I can `merge` them to my repository.\n",
    "        (*merge* in this simple case is basically just *absorb* all the changes) "
   ]
  },
  {
   "cell_type": "markdown",
   "metadata": {
    "slideshow": {
     "slide_type": "slide"
    }
   },
   "source": [
    "### GitHub collaboration demo - Resolving conflicts\n",
    "\n",
    "+ [*demo-1-10.cast*](https://asciinema.org/a/1tHAh1ygCDswdlTaG64KPuk91?autoplay=1&cols=180&rows=45)\n",
    "\n",
    "+ Make a commit (adding one line to a file) in *git-it-cp1* and push to GitHub\n",
    "+ In *git-it-cp2* make a commit (adding one line to the same file above) and push to GitHub\n",
    "    + You won't be able to do it, since now the remote branch is ahead, so you will have to do a *fetch*\n",
    "    + Then *merge* *origin/master* \n",
    "        + And now you should get conflicts. Solve the conflicts and push to GitHub\n",
    "+ Back in *git-it-cp1*, pull (or fetch/merge) the changes that you just did in *git-it-cp2* "
   ]
  },
  {
   "cell_type": "markdown",
   "metadata": {
    "slideshow": {
     "slide_type": "slide"
    }
   },
   "source": [
    "### GitHub collaboration demo - Resolving conflicts (2)\n",
    "    \n",
    "+ \"Centralized\" GitHub server with the merged version \n",
    "\n",
    "<img src=\"Images/merge/github_merge.png\" style=\"width: 65%;\"/>\t\n"
   ]
  },
  {
   "cell_type": "markdown",
   "metadata": {
    "slideshow": {
     "slide_type": "slide"
    }
   },
   "source": [
    "### Most of the time, just one remote (probably GitHub)\n",
    "\n",
    "+ GitHub is just another remote, very useful for collaboration, but just another remote\n",
    "+ Creating remotes in other machines or even in different directories as we did can be very useful. I use it regularly:\n",
    "    + one PC has required GUI software, \n",
    "    + the other PC required documentation software. \n",
    "    + I need to push changes quickly from one to the other without making many commits in the common repository\n",
    "      "
   ]
  },
  {
   "cell_type": "markdown",
   "metadata": {
    "slideshow": {
     "slide_type": "slide"
    }
   },
   "source": [
    "### Pull/merge requests (GitHub) \n",
    "\n",
    "+ GitHub/GitLab/etc. feature\n",
    "+ Very useful when contributing code but not a collaborator\n",
    "+ (but it can also be used across branches with collaborators)\n",
    "\n",
    "<img src=\"Images/github/pull_request.png\" style=\"width: 45%;\"/>\t\n",
    "\n",
    "Demo: https://youtu.be/AVao2MvFZQc\n",
    "(short version of the full demo by `codebasics` at https://www.youtube.com/watch?v=e3bjQX9jIBk)"
   ]
  },
  {
   "cell_type": "markdown",
   "metadata": {
    "slideshow": {
     "slide_type": "slide"
    }
   },
   "source": [
    "### Extra: collaborating with Overleaf\n",
    "\n",
    "+ Overleaf project is a (limited) git repository\n",
    "  + only *master* branch, but you can `clone, pull, push`, etc. to work locally, but allow collaboration with others.\n",
    "\n",
    "<img src=\"Images/overleaf/overleaf-git.png\" style=\"width: 60%;\"/>\t"
   ]
  },
  {
   "cell_type": "markdown",
   "metadata": {
    "slideshow": {
     "slide_type": "slide"
    }
   },
   "source": [
    "## 4. Peek into Advanced Git\n",
    "\n",
    "+ .gitignore (patterns of files that Git will simply ignore)\n",
    "+ rebase\n",
    "+ stash\n",
    "+ reset       (discard commits in a private branch or throw away uncommited changes)\n",
    "+ cherry-pick (apply the changes introduced by some existing commits)\n",
    "+ bisect      (use binary search to find the commit that introduced a bug)\n",
    "+ blame       (show what revision and author last modified each line of a file)\n",
    "+ submodules \n",
    "+ Workflows\n",
    "+ CI/CD (GitLab/GitHub,etc.)"
   ]
  },
  {
   "cell_type": "markdown",
   "metadata": {
    "slideshow": {
     "slide_type": "slide"
    }
   },
   "source": [
    "## References\n",
    "\n",
    "+ [Git main page](https://git-scm.com/)\n",
    "+ [Pro Git book](https://git-scm.com/book/en/v2)\n",
    "+ [Git cheatsheet](https://ndpsoftware.com/git-cheatsheet.html)"
   ]
  }
 ],
 "metadata": {
  "@webio": {
   "lastCommId": null,
   "lastKernelId": null
  },
  "celltoolbar": "Slideshow",
  "kernelspec": {
   "display_name": "Python 3",
   "language": "python",
   "name": "python3"
  },
  "language_info": {
   "codemirror_mode": {
    "name": "ipython",
    "version": 3
   },
   "file_extension": ".py",
   "mimetype": "text/x-python",
   "name": "python",
   "nbconvert_exporter": "python",
   "pygments_lexer": "ipython3",
   "version": "3.8.3"
  }
 },
 "nbformat": 4,
 "nbformat_minor": 4
}
