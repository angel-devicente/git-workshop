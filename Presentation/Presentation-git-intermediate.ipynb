{
 "cells": [
  {
   "cell_type": "markdown",
   "metadata": {
    "slideshow": {
     "slide_type": "slide"
    }
   },
   "source": [
    "# Intermediate Git \n",
    "\n",
    "### Ángel de Vicente  (*angel.de.vicente@iac.es*)\n",
    "\n",
    "#### Date: November 20,  2020"
   ]
  },
  {
   "cell_type": "markdown",
   "metadata": {},
   "source": [
    "<img src=\"Images/logos/logos_eurocc.png\" style=\"width: 900px;\"/>"
   ]
  },
  {
   "cell_type": "markdown",
   "metadata": {
    "slideshow": {
     "slide_type": "slide"
    }
   },
   "source": [
    "## Index\n",
    "\n",
    "1. Git basics quick review\n",
    "2. Merging\n",
    "3. Git remotes \n",
    "4. Collaboration with Git (GitHub, GitLab, OverLeaf, etc.)\n",
    "5. Peek into advanced Git\n",
    "\n"
   ]
  },
  {
   "cell_type": "markdown",
   "metadata": {
    "slideshow": {
     "slide_type": "slide"
    }
   },
   "source": [
    "## 1. Git basics quick review \n",
    "\n",
    "+ In \"Git basics\" we covered the basics to use Git individually (http://iactalks.iac.es/talks/view/1426)\n",
    "\n",
    "<img src=\"Images/basics/local.png\" style=\"width: 40%;\"/>"
   ]
  },
  {
   "cell_type": "markdown",
   "metadata": {
    "slideshow": {
     "slide_type": "slide"
    }
   },
   "source": [
    "## Git basics quick review (2)\n",
    "\n",
    "+ Git setup\n",
    "+ Basic commands: `status, add, rm, mv, commit, log, diff`\n",
    "+ Branches basic commands: `branch, checkout`"
   ]
  },
  {
   "cell_type": "markdown",
   "metadata": {
    "slideshow": {
     "slide_type": "slide"
    }
   },
   "source": [
    "## 2. Merging"
   ]
  },
  {
   "cell_type": "markdown",
   "metadata": {
    "slideshow": {
     "slide_type": "slide"
    }
   },
   "source": [
    "### Merging\n",
    "\n",
    "+ Fast-forward merges \n",
    "    + the simplest\n",
    "+ No-conflict merges \n",
    "    + very simple, and very common if working on your own\n",
    "+ Merges with conflicts \n",
    "    + very usual when collaborating with others, specially if long time between commits"
   ]
  },
  {
   "cell_type": "markdown",
   "metadata": {
    "slideshow": {
     "slide_type": "slide"
    }
   },
   "source": [
    "### Fast-forward \"merge\"\n",
    "\n",
    "+ Imagine you are in a situation like this, where:\n",
    "    + you have two branches, started off the *master* branch, where you made one commit to each.\n",
    "    + you want now to incorporate to *master* the changes done in branch *hotfix*\n",
    "\n",
    "<img src=\"Images/merge/basic-branching-4.png\" style=\"width: 45%;\"/>\t"
   ]
  },
  {
   "cell_type": "markdown",
   "metadata": {
    "slideshow": {
     "slide_type": "slide"
    }
   },
   "source": [
    "### Fast-forward \"merge\" (2)\n",
    "\n",
    "+ Check out the master branch and merge the hotfix branch\n",
    "    + This is a fast-forward merge (i.e. nothing really to merge, not divergent branch)\n",
    "\n",
    "<img src=\"Images/merge/basic-branching-5.png\" style=\"width: 42%;\"/>\t\n",
    "\n",
    "**Demo**: https://bit.ly/3nq0SwW"
   ]
  },
  {
   "cell_type": "markdown",
   "metadata": {
    "slideshow": {
     "slide_type": "slide"
    }
   },
   "source": [
    "### No-conflicts merge\n",
    "\n",
    "+ Following from the previous situation:\n",
    "    + you now have a branch *iss53* that has diverged from the *master* branch\n",
    "    + a \"fast-forward\" is not possible when incorporating those changes to *master*\n",
    "    \n",
    "<img src=\"Images/merge/basic-branching-6.png\" style=\"width: 48%;\"/>\t"
   ]
  },
  {
   "cell_type": "markdown",
   "metadata": {
    "slideshow": {
     "slide_type": "slide"
    }
   },
   "source": [
    "### No-conflicts merge (2)\n",
    "\n",
    "+ A `git merge` command will have to work harder now to find:\n",
    "    + which commit is common to both lines\n",
    "    + what changes were made in each branch so as to collect all changes\n",
    "    + if changes in, e.g. different files/functions, merge possible w.o. conflicts  \n",
    "\n",
    "<img src=\"Images/merge/basic-merging-1.png\" style=\"width: 45%;\"/>\t"
   ]
  },
  {
   "cell_type": "markdown",
   "metadata": {
    "slideshow": {
     "slide_type": "slide"
    }
   },
   "source": [
    "### No-conflicts merge (3)\n",
    "\n",
    "+ And we end up with a new \"merge\" commit in *master*:\n",
    "\n",
    "<img src=\"Images/merge/basic-merging-2.png\" style=\"width: 45%;\"/>\t\n",
    "\n",
    "**Note**: remember that `git merge iss53` means: merge branch iss53 to my current branch (i.e. you want to issue the merge command with the destination branch checked-out)\n",
    "\n",
    "**Demo**: https://bit.ly/2KgasEt"
   ]
  },
  {
   "cell_type": "markdown",
   "metadata": {
    "slideshow": {
     "slide_type": "slide"
    }
   },
   "source": [
    "### Merge with conflicts\n",
    "\n",
    "#### When git cannot merge automatically, it will tell you:\n",
    "``` \n",
    "$ git merge iss53\n",
    "Auto-merging index.html\n",
    "CONFLICT (content): Merge conflict in index.html\n",
    "Automatic merge failed; fix conflicts and then commit the result.\n",
    "```\n",
    "\n",
    "#### The conflicting files will have conflict-resolution markers:\n",
    "```\n",
    "<<<<<<< HEAD:index.html\n",
    "<div id=\"footer\">contact : email.support@github.com</div>\n",
    "=======\n",
    "<div id=\"footer\">contact us at support@github.com</div>\n",
    ">>>>>>> iss53:index.html\n",
    "```\n"
   ]
  },
  {
   "cell_type": "markdown",
   "metadata": {
    "slideshow": {
     "slide_type": "slide"
    }
   },
   "source": [
    "### Merge with conflicts (2)\n",
    "\n",
    "+ To resolve the conflict by hand:\n",
    "    + just edit the file with your usual text editor, leaving the correct resolution (and no markers)\n",
    "    + run `git commit` when all conflicts have been resolved\n",
    "\n",
    "   **Demo**: https://bit.ly/36Kz3J0\n",
    "   \n",
    "+ But you should really learn how to use an external tool \n",
    "    + `git mergetool` will tell you options and how to configure git\n",
    "    + GitAhead demo: https://www.youtube.com/watch?v=W-FHwUwE84M \n",
    "    \n",
    "+ **Demo+**: Emacs +Magit + Ediff (bonus: usefulness of **hunks**): https://bit.ly/2H8WfI9"
   ]
  },
  {
   "cell_type": "markdown",
   "metadata": {
    "slideshow": {
     "slide_type": "skip"
    }
   },
   "source": [
    "## Git basics *leftovers*\n",
    "\n",
    "+ Revisiting `commit --amend`. \n",
    "  + Careful with this (and other commands that modify your history). **Do not use on public repositories** [*demo-1-3.cast*](https://asciinema.org/a/Sq5xBDSbbbdJ1AxdZmz755xaJ?autoplay=1&cols=180&rows=40)"
   ]
  },
  {
   "cell_type": "markdown",
   "metadata": {
    "slideshow": {
     "slide_type": "skip"
    }
   },
   "source": [
    "+ Usefulness of *hunks* \n",
    "  + very simple with Git clients, though possible in the terminal as well\n",
    "\n",
    "+ **Learn** to use merges with a tool. \n",
    "  + *Demo of merge with ediff*\n",
    "  \n",
    "[*demo-merge-ediff.cast*](https://asciinema.org/a/2voOiDLtVmoamAOfyVBbxrp08?autoplay=1&cols=160&rows=50)"
   ]
  },
  {
   "cell_type": "markdown",
   "metadata": {
    "slideshow": {
     "slide_type": "slide"
    }
   },
   "source": [
    "## 3. Git remotes "
   ]
  },
  {
   "cell_type": "markdown",
   "metadata": {
    "slideshow": {
     "slide_type": "slide"
    }
   },
   "source": [
    "+ Distributed VCS (e.g. `Git`)\n",
    "\n",
    "<img src=\"Images/basics/distributed.png\" style=\"width: 38%;\"/>"
   ]
  },
  {
   "cell_type": "markdown",
   "metadata": {
    "slideshow": {
     "slide_type": "slide"
    }
   },
   "source": [
    "### Remote repositories\n",
    "\n",
    "+ Remote repositories are versions of your project that are hosted:\n",
    "    + on the Internet\n",
    "    + or more generally in the network somewhere (even in your local machine)\n",
    "+ Crucial for collaborating with others:\n",
    "    + **push**ing and **pull**ing data from remotes\n",
    "+ GitHub, GitLab, Bitbucket, etc. are on-line remotes with:\n",
    "    + extras for collaboration\n",
    "    + features for code development (e.g. CI/CD)\n",
    "    "
   ]
  },
  {
   "cell_type": "markdown",
   "metadata": {
    "slideshow": {
     "slide_type": "slide"
    }
   },
   "source": [
    "### Remote Branches\n",
    "\n",
    "If you read https://git-scm.com/book/en/v2/Git-Branching-Remote-Branches, you get all the details, but it can be a bit confusing. Most of the time, you just need three concepsts:\n",
    "\n",
    "+ Remote branch: a branch in a **remote** repository, for example:\n",
    "    + GitHub, \n",
    "    + a repository in another PC of yours, \n",
    "    + another directory in the same machine \n",
    "+ Remote-tracking branch: a **local** *bookmark* pointing to a remote branch\n",
    "    + can become out-of-date if the remote branch gets new commits\n",
    "+ Tracking branch: a **local** branch, linking the *local* branch to the *remote* branch.\n"
   ]
  },
  {
   "cell_type": "markdown",
   "metadata": {
    "slideshow": {
     "slide_type": "slide"
    }
   },
   "source": [
    "### Basic remotes commands\n",
    "\n",
    "+ `git remote ...`\n",
    "    + `-v` `add` `show` `rename` `remove`\n",
    "+ `git ...`\n",
    "    + `clone`  \n",
    "    + `pull` \n",
    "    + `push`\n",
    "    + `fetch` \n",
    "    + `merge`\n",
    "\n"
   ]
  },
  {
   "cell_type": "markdown",
   "metadata": {
    "slideshow": {
     "slide_type": "slide"
    }
   },
   "source": [
    "+ `git clone` will take the remote repository in *git.ourcompany.com* and copy it to your local repository.\n",
    "    + it will create remote-tracking branches (here *origin/master*) \n",
    "    + it will create and checkout a *local* tracking branch named *master*, (only one local branch is created, linked to the currently active branch in the remote repository).  \n",
    "    \n",
    "<img src=\"Images/branches/remote-branches-1.png\" style=\"width: 40%;\"/>\t"
   ]
  },
  {
   "cell_type": "code",
   "execution_count": 42,
   "metadata": {
    "slideshow": {
     "slide_type": "slide"
    }
   },
   "outputs": [],
   "source": [
    "%%bash\n",
    "\n",
    "# git clone https://github.com/jlord/git-it-electron.git"
   ]
  },
  {
   "cell_type": "code",
   "execution_count": 43,
   "metadata": {
    "slideshow": {
     "slide_type": "fragment"
    }
   },
   "outputs": [
    {
     "name": "stdout",
     "output_type": "stream",
     "text": [
      "origin\thttps://github.com/jlord/git-it-electron.git (fetch)\n",
      "origin\thttps://github.com/jlord/git-it-electron.git (push)\n"
     ]
    }
   ],
   "source": [
    "%%bash\n",
    "\n",
    "cd git-it-electron\n",
    "git remote -v"
   ]
  },
  {
   "cell_type": "code",
   "execution_count": 44,
   "metadata": {
    "slideshow": {
     "slide_type": "fragment"
    }
   },
   "outputs": [
    {
     "name": "stdout",
     "output_type": "stream",
     "text": [
      "* remote origin\n",
      "  Fetch URL: https://github.com/jlord/git-it-electron.git\n",
      "  Push  URL: https://github.com/jlord/git-it-electron.git\n",
      "  HEAD branch: master\n",
      "  Remote branches:\n",
      "    IUTInfoAix-M2105-french-translation      tracked\n",
      "    dependabot/npm_and_yarn/electron-7.2.4   tracked\n",
      "    dependabot/npm_and_yarn/handlebars-4.3.0 tracked\n",
      "    fix-menu                                 tracked\n",
      "    lang-tweaks                              tracked\n",
      "    master                                   tracked\n",
      "  Local branch configured for 'git pull':\n",
      "    master merges with remote master\n",
      "  Local ref configured for 'git push':\n",
      "    master pushes to master (up to date)\n"
     ]
    }
   ],
   "source": [
    "%%bash\n",
    "\n",
    "cd git-it-electron\n",
    "git remote show origin"
   ]
  },
  {
   "cell_type": "code",
   "execution_count": 45,
   "metadata": {
    "slideshow": {
     "slide_type": "slide"
    }
   },
   "outputs": [
    {
     "name": "stdout",
     "output_type": "stream",
     "text": [
      "* master\n"
     ]
    }
   ],
   "source": [
    "%%bash\n",
    "\n",
    "cd git-it-electron\n",
    "git branch "
   ]
  },
  {
   "cell_type": "code",
   "execution_count": 46,
   "metadata": {
    "slideshow": {
     "slide_type": "fragment"
    }
   },
   "outputs": [
    {
     "name": "stdout",
     "output_type": "stream",
     "text": [
      "* master                                                  d808d9c [origin/master] Merge pull request #257 from jotoeri/add-guilink\n",
      "  remotes/origin/HEAD                                     -> origin/master\n",
      "  remotes/origin/IUTInfoAix-M2105-french-translation      906b03d Use h1 headers\n",
      "  remotes/origin/dependabot/npm_and_yarn/electron-7.2.4   85397fa Bump electron from 1.8.8 to 7.2.4\n",
      "  remotes/origin/dependabot/npm_and_yarn/handlebars-4.3.0 33aa387 Bump handlebars from 3.0.3 to 4.3.0\n",
      "  remotes/origin/fix-menu                                 79e8e3c Prepend file:// to path\n",
      "  remotes/origin/lang-tweaks                              d87ce44 Updates to JP index page\n",
      "  remotes/origin/master                                   d808d9c Merge pull request #257 from jotoeri/add-guilink\n"
     ]
    }
   ],
   "source": [
    "%%bash\n",
    "\n",
    "cd git-it-electron\n",
    "git branch -vv --all"
   ]
  },
  {
   "cell_type": "markdown",
   "metadata": {
    "slideshow": {
     "slide_type": "slide"
    }
   },
   "source": [
    "+ Remote and local repositories can become unsynchronized\n",
    "    + Here there were commits in the local branch and the remote branch\n",
    "    + Note that the remote-tracking branch *origin/master* doesn't move (until you use `git fetch` your view of the remote repository is out-of-date)\n",
    "    \n",
    "<img src=\"Images/branches/remote-branches-2.png\" style=\"width: 55%;\"/>\t"
   ]
  },
  {
   "cell_type": "markdown",
   "metadata": {
    "slideshow": {
     "slide_type": "slide"
    }
   },
   "source": [
    "+ `git fetch` will synchronize your remote-tracking branch\n",
    "    + at this point *origin/master* and *master* have diverged (will have to use `git merge` or similar)\n",
    "    \n",
    "<img src=\"Images/branches/remote-branches-3.png\" style=\"width: 50%;\"/>\t"
   ]
  },
  {
   "cell_type": "markdown",
   "metadata": {
    "slideshow": {
     "slide_type": "slide"
    }
   },
   "source": [
    "+ You can have many remotes\n",
    "\n",
    "<img src=\"Images/branches/remote-branches-4.png\" style=\"width: 55%;\"/>\t"
   ]
  },
  {
   "cell_type": "markdown",
   "metadata": {
    "slideshow": {
     "slide_type": "slide"
    }
   },
   "source": [
    "+ ... `git fetch` to synchronize their state to your repository\n",
    "\n",
    "<img src=\"Images/branches/remote-branches-5.png\" style=\"width: 60%;\"/>\t"
   ]
  },
  {
   "cell_type": "markdown",
   "metadata": {
    "slideshow": {
     "slide_type": "slide"
    }
   },
   "source": [
    "+ You can `fetch/merge` or `pull` from remote-tracking branches without creating local branches\n",
    "    + for example, *fetch teamone*, *merge hotfix* (to merge into *master*, no local *hotfix* created)\n",
    "+ If you want to work (and perhaps contribute) to a remote branch, you can create a local branch out of it:\n",
    "    + `git checkout <branch>` (if no name conflict, it will just create a tracking branch)\n",
    "    + `git checkout -b <branch> --track <remote/branch>` (specific, in case there are name conflicts)\n",
    "    \n",
    "    \n",
    "+ **Demo+** (tracking branches, and \"local\" remotes)\n",
    "    + In many cases you will have only one remote (*origin*). This illustrates a more complex scenario: https://bit.ly/3nJf2cX \n",
    "    + If you understand this demo, collaborating with *GitHub*, *GitLab*, etc. should be a breeze."
   ]
  },
  {
   "cell_type": "markdown",
   "metadata": {
    "slideshow": {
     "slide_type": "slide"
    }
   },
   "source": [
    "## 4. Collaboration with Git \n",
    "(*via GitHub, GitLab, etc.*)"
   ]
  },
  {
   "cell_type": "markdown",
   "metadata": {
    "slideshow": {
     "slide_type": "slide"
    }
   },
   "source": [
    "### Getting started with GitHub (similar for GitLab, Bitbucket, etc.)\n",
    "\n",
    "+ Login to your GitHub account\n",
    "+ Two ways to get a new repository:     \n",
    "    + Create a new repository\n",
    "    + *Fork* an existing repository"
   ]
  },
  {
   "cell_type": "markdown",
   "metadata": {
    "slideshow": {
     "slide_type": "slide"
    }
   },
   "source": [
    "### Create a new repository in GitHub (same idea for GitLab, Bitbucket, etc.)\n",
    "\n",
    "+ Create an empty repository in GitHub ...\n",
    "   \n",
    "<img src=\"Images/github/new_repo.png\" style=\"width: 40%;\"/>   "
   ]
  },
  {
   "cell_type": "markdown",
   "metadata": {
    "slideshow": {
     "slide_type": "slide"
    }
   },
   "source": [
    "+ ... and then follow the instructions given by GitHub (reproduced below).\n",
    "    + all steps should be familiar \n",
    "    + make sure you understand why *git push -u origin master*\n",
    "    + what happens if you just use *git push* as in the previous demo?\n",
    "        \n",
    "\n",
    "```\n",
    "echo \"# git-it-test\" >> README.md\n",
    "git init\n",
    "git add README.md\n",
    "git commit -m \"first commit\"\n",
    "git remote add origin https://github.com/angel-devicente/git-it-test.git\n",
    "git push -u origin master\n",
    "```"
   ]
  },
  {
   "cell_type": "markdown",
   "metadata": {
    "slideshow": {
     "slide_type": "slide"
    }
   },
   "source": [
    "### *Fork*  (GitHub/GitLab/etc. feature) a repository from GitHub into your account\n",
    "\n",
    "+ Fork the repository *git-it-electron* \n",
    "   (https://github.com/jlord/git-it-electron)\n",
    "   \n",
    "<img src=\"Images/github/fork-github.png\" style=\"width: 68%;\"/>   "
   ]
  },
  {
   "cell_type": "markdown",
   "metadata": {
    "slideshow": {
     "slide_type": "slide"
    }
   },
   "source": [
    "### *Clone* your newly *forked* repository\n",
    "\n",
    "<img src=\"Images/github/clone-github.png\" style=\"width: 68%;\"/>"
   ]
  },
  {
   "cell_type": "code",
   "execution_count": 51,
   "metadata": {
    "slideshow": {
     "slide_type": "slide"
    }
   },
   "outputs": [
    {
     "name": "stdout",
     "output_type": "stream",
     "text": [
      "origin\thttps://github.com/angel-devicente/git-it-electron.git (fetch)\n",
      "origin\thttps://github.com/angel-devicente/git-it-electron.git (push)\n",
      "\n",
      "* master                                                  d808d9c [origin/master] Merge pull request #257 from jotoeri/add-guilink\n",
      "  remotes/origin/HEAD                                     -> origin/master\n",
      "  remotes/origin/IUTInfoAix-M2105-french-translation      906b03d Use h1 headers\n",
      "  remotes/origin/dependabot/npm_and_yarn/handlebars-4.3.0 33aa387 Bump handlebars from 3.0.3 to 4.3.0\n",
      "  remotes/origin/fix-menu                                 79e8e3c Prepend file:// to path\n",
      "  remotes/origin/lang-tweaks                              d87ce44 Updates to JP index page\n",
      "  remotes/origin/master                                   d808d9c Merge pull request #257 from jotoeri/add-guilink\n"
     ]
    }
   ],
   "source": [
    "%%bash\n",
    "\n",
    "# git clone https://github.com/angel-devicente/git-it-electron.git git-it-angelv\n",
    "\n",
    "cd git-it-angelv\n",
    "\n",
    "git remote -vv\n",
    "echo\n",
    "git branch --all -vv"
   ]
  },
  {
   "cell_type": "markdown",
   "metadata": {
    "slideshow": {
     "slide_type": "slide"
    }
   },
   "source": [
    "### 4.1 Use hosted repository (i.e. GitHub, GitLab, etc.) to share your code\n",
    "\n",
    "+ \"One-man show\". Use GitHub to:\n",
    "    + backup your work\n",
    "    + share your work\n",
    "+ Workflow could be:\n",
    "    + To add a new feature to the code: create branch\n",
    "    +  ... when finished:\n",
    "        + merge to master branch or\n",
    "        + push to server and merge to master branch\n",
    "    + push master branch \n",
    "\n",
    "+ **Demo**: https://bit.ly/3kJ8B7r"
   ]
  },
  {
   "cell_type": "markdown",
   "metadata": {
    "slideshow": {
     "slide_type": "slide"
    }
   },
   "source": [
    "+ Changes are pushed to GitHub so everybody can access/clone them.\n",
    "\n",
    "<img src=\"Images/github/collab41.png\" style=\"width: 85%;\"/>\n"
   ]
  },
  {
   "cell_type": "markdown",
   "metadata": {
    "slideshow": {
     "slide_type": "slide"
    }
   },
   "source": [
    "### 4.2 Small team collaboration\n",
    "\n",
    "+ Basically the same as the \"one-man show\", but:\n",
    "    + now you are not the only one **push**ing to the remote repository\n",
    "    + ... so you have to check if somebody else has committed work that you have to *merge* to your repository\n",
    "+ You can use the commands `fetch`/`merge` and `pull` to:\n",
    "    + get changes *push*ed by another team member\n",
    "    + get changes *push*ed by you in a differet computer\n",
    "    + incorporate changes from another repository branch"
   ]
  },
  {
   "cell_type": "markdown",
   "metadata": {
    "slideshow": {
     "slide_type": "slide"
    }
   },
   "source": [
    "### Granting collaborators access in GitHub\n",
    "\n",
    "<img src=\"Images/github/access.png\" style=\"width: 50%;\"/>"
   ]
  },
  {
   "cell_type": "markdown",
   "metadata": {
    "slideshow": {
     "slide_type": "slide"
    }
   },
   "source": [
    "### Small team collaboration demo \n",
    "**(simplified to collaborate with ourselves)**\n",
    "\n",
    "+ Suppose two collaborators (or you in two computers), that cloned the same repository (one *git-it-cp1*, the other *git-it-cp2*)\n",
    "    + As *cp1* I make some changes and **push** to GitHub. Later, as *cp2* we **pull** those changes.\n",
    "    + Then, as *cp2* I make some changes and **push** to GitHub. Later, as *cp1* I:\n",
    "        + first **fetch** the changes, so I can review them\n",
    "        + when happy with introducing those changes I can **merge** them to my repository.\n",
    "        (*merge* in this simple case is basically just *absorb* all the changes) \n",
    "        \n",
    "+ **Demo**: https://bit.ly/33a0gEf         "
   ]
  },
  {
   "cell_type": "markdown",
   "metadata": {
    "slideshow": {
     "slide_type": "slide"
    }
   },
   "source": [
    "### Small team collaboration demo (with conflicts)\n",
    "\n",
    "+ The previous demo was quite simple:\n",
    "    + both collaborators were *well-behaved* and didn't make changes to the code concurrently\n",
    "    + what can we do if both make changes starting from the same *commit*?\n",
    "    \n",
    "+ Suppose both collaborators *pull* from the repository in the morning (both the same commit):\n",
    "   + As *cp1* make a commit (adding one line to a file) in *git-it-cp1* and push to GitHub\n",
    "   + As *cp2* make a commit (adding one line to the same file above) and push to GitHub\n",
    "      + You can't push, since the remote branch is ahead. You will have to do a **fetch**\n",
    "      + Then **merge** *origin/master* \n",
    "         + And now you should get conflicts. Solve the conflicts and push to GitHub\n",
    "   + Back as *cp1*, pull (or fetch/merge) the changes that you just did in *git-it-cp2* \n",
    "\n",
    "+ **Demo**: https://bit.ly/2IMBSko"
   ]
  },
  {
   "cell_type": "markdown",
   "metadata": {
    "slideshow": {
     "slide_type": "slide"
    }
   },
   "source": [
    "### 4.3 Collaborate with the *whole* world \n",
    "(*look for \"Advanced Git\" seminar*)\n",
    "\n",
    "+ (*Old-fashioned*) You can *clone* a project not your own, and to propose changes:\n",
    "    + create *patches* and send the by mail, \n",
    "    + ... which the team can **apply**\n",
    "\n",
    "+ You can *fork* a project, and to propose changes:\n",
    "    + create a *branch* implementing some code change\n",
    "    + create a **pull request**, which basically says to the original project team:\n",
    "        + take the changes in the *branch* in my *fork*, \n",
    "        + ... and if you think it is OK, **merge** them to your branch\n"
   ]
  },
  {
   "cell_type": "markdown",
   "metadata": {
    "slideshow": {
     "slide_type": "slide"
    }
   },
   "source": [
    "**Pull/merge requests**\n",
    "\n",
    "<img src=\"Images/github/pull_request.png\" style=\"width: 75%;\"/>\t"
   ]
  },
  {
   "cell_type": "markdown",
   "metadata": {
    "slideshow": {
     "slide_type": "skip"
    }
   },
   "source": [
    "### Most of the time, just one remote (probably GitHub)\n",
    "\n",
    "+ GitHub is just another remote, very useful for collaboration, but just another remote\n",
    "+ Creating remotes in other machines or even in different directories as we did can be very useful. I use it regularly:\n",
    "    + one PC has required GUI software, \n",
    "    + the other PC required documentation software. \n",
    "    + I need to push changes quickly from one to the other without making many commits in the common repository\n",
    "      "
   ]
  },
  {
   "cell_type": "markdown",
   "metadata": {
    "slideshow": {
     "slide_type": "skip"
    }
   },
   "source": [
    "### Pull/merge requests (GitHub) \n",
    "\n",
    "+ GitHub/GitLab/etc. feature\n",
    "+ Very useful when contributing code but not a collaborator\n",
    "+ (but it can also be used across branches with collaborators)\n",
    "\n",
    "<img src=\"Images/github/pull_request.png\" style=\"width: 45%;\"/>\t\n",
    "\n",
    "Demo: https://youtu.be/AVao2MvFZQc\n",
    "(short version of the full demo by `codebasics` at https://www.youtube.com/watch?v=e3bjQX9jIBk)"
   ]
  },
  {
   "cell_type": "markdown",
   "metadata": {
    "slideshow": {
     "slide_type": "slide"
    }
   },
   "source": [
    "### Extra: collaborating with Overleaf\n",
    "\n",
    "+ Overleaf project is a (limited) git repository\n",
    "  + only *master* branch, but you can `clone, pull, push`, etc. to work locally, but allow collaboration with others.\n",
    "\n",
    "<img src=\"Images/overleaf/overleaf-git.png\" style=\"width: 55%;\"/>\t"
   ]
  },
  {
   "cell_type": "markdown",
   "metadata": {
    "slideshow": {
     "slide_type": "slide"
    }
   },
   "source": [
    "## 5. Peek into Advanced Git\n",
    "\n",
    "+ .gitignore (patterns of files that Git will simply ignore)\n",
    "+ rebase\n",
    "+ stash\n",
    "+ reset       (discard commits in a private branch or throw away uncommited changes)\n",
    "+ cherry-pick (apply the changes introduced by some existing commits)\n",
    "+ bisect      (use binary search to find the commit that introduced a bug)\n",
    "+ blame       (show what revision and author last modified each line of a file)\n",
    "+ submodules \n",
    "+ Workflows\n",
    "+ GitHub pull requests\n",
    "+ CI/CD (GitLab/GitHub,etc.)"
   ]
  },
  {
   "cell_type": "markdown",
   "metadata": {
    "slideshow": {
     "slide_type": "slide"
    }
   },
   "source": [
    "## References\n",
    "\n",
    "+ Git main page: https://git-scm.com/\n",
    "+ Pro Git book: https://git-scm.com/book/en/v2\n",
    "+ Git cheatsheet: https://ndpsoftware.com/git-cheatsheet.html"
   ]
  }
 ],
 "metadata": {
  "@webio": {
   "lastCommId": null,
   "lastKernelId": null
  },
  "celltoolbar": "Slideshow",
  "kernelspec": {
   "display_name": "Python 3",
   "language": "python",
   "name": "python3"
  },
  "language_info": {
   "codemirror_mode": {
    "name": "ipython",
    "version": 3
   },
   "file_extension": ".py",
   "mimetype": "text/x-python",
   "name": "python",
   "nbconvert_exporter": "python",
   "pygments_lexer": "ipython3",
   "version": "3.8.3"
  }
 },
 "nbformat": 4,
 "nbformat_minor": 4
}
