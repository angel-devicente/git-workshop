{
 "cells": [
  {
   "cell_type": "markdown",
   "metadata": {
    "slideshow": {
     "slide_type": "slide"
    }
   },
   "source": [
    "# Git workshop \n",
    "### Ángel de Vicente \n",
    "##### POLMAG project (http://research.iac.es/proyecto/polmag/)   \n",
    "E-mail: *angel.de.vicente@iac.es*\n",
    "\n",
    "#### May 12-13, SUNDIAL"
   ]
  },
  {
   "cell_type": "markdown",
   "metadata": {},
   "source": [
    "<img src=\"Images/logos/logos.png\" style=\"width: 500px;\"/>"
   ]
  },
  {
   "cell_type": "markdown",
   "metadata": {
    "slideshow": {
     "slide_type": "slide"
    }
   },
   "source": [
    "## Index\n",
    "\n",
    "1. Git basics\n",
    "2. Git basic usage\n",
    "3. Working with remotes (i.e. GitHub)\n",
    "4. Branches\n",
    "5. Merging\n",
    "6. Workflows\n",
    "7. Rebasing\n",
    "8. Other\n",
    "\n"
   ]
  },
  {
   "cell_type": "markdown",
   "metadata": {
    "slideshow": {
     "slide_type": "slide"
    }
   },
   "source": [
    "## 1. Git basics"
   ]
  },
  {
   "cell_type": "markdown",
   "metadata": {
    "slideshow": {
     "slide_type": "slide"
    }
   },
   "source": [
    "### I'm assumming that you are familiar with the following concepts:\n",
    "\n",
    "+ What is version control?\n",
    "+ What do we version control (text vs. binary files)\n",
    "+ What is a version control system\n",
    "+ You have used a version control system directly or indirectly (e.g. Dropbox, Overleaf, etc.)\n",
    "+ Version control ideas: record/playback, branching, merging\n",
    "+ Benefits of version control systems"
   ]
  },
  {
   "cell_type": "markdown",
   "metadata": {
    "slideshow": {
     "slide_type": "slide"
    }
   },
   "source": [
    "### Types of Version Control Systems\n",
    "\n",
    "+ No VCS (*don't be the one doing this!*)\n",
    "\n",
    "<img src=\"Images/basics/version-control-phdcomics.png\" style=\"width: 30%;\"/>"
   ]
  },
  {
   "cell_type": "markdown",
   "metadata": {
    "slideshow": {
     "slide_type": "slide"
    }
   },
   "source": [
    "+ Local VCS (e.g. `RCS`)\n",
    "\n",
    "<img src=\"Images/basics/local.png\" style=\"width: 40%;\"/>"
   ]
  },
  {
   "cell_type": "markdown",
   "metadata": {
    "slideshow": {
     "slide_type": "slide"
    }
   },
   "source": [
    "+ Centralized VCS (e.g. `Subversion`)\n",
    "\n",
    "<img src=\"Images/basics/centralized.png\" style=\"width: 50%;\"/>"
   ]
  },
  {
   "cell_type": "markdown",
   "metadata": {
    "slideshow": {
     "slide_type": "slide"
    }
   },
   "source": [
    "+ Distributed VCS (e.g. `Git`)\n",
    "\n",
    "<img src=\"Images/basics/distributed.png\" style=\"width: 38%;\"/>"
   ]
  },
  {
   "cell_type": "markdown",
   "metadata": {
    "slideshow": {
     "slide_type": "slide"
    }
   },
   "source": [
    "### I'm assumming that: \n",
    "\n",
    "+ You are *familiar* with Git\n",
    "+ About Git: https://git-scm.com/  (downloads, documentation, etc.)\n",
    "+ You have *git* installed in your computer\n",
    "+ You have a *GitHub* account (https://github.com/)\n",
    "+ You are using GNU/Linux (small variations if using Mac OS X or Windows)\n",
    "+ Much more than what we'll do today: \n",
    "    + Pro Git book: https://git-scm.com/book/en/v2 (most images taken from here)       "
   ]
  },
  {
   "cell_type": "markdown",
   "metadata": {
    "slideshow": {
     "slide_type": "slide"
    }
   },
   "source": [
    "### Setting up git\n",
    "\n",
    "+ *git config* (details at: https://git-scm.com/book/en/v2/Getting-Started-First-Time-Git-Setup)\n",
    "+ Configuration variables stored in three different places:\n",
    "    + */etc/gitconfig* file (*--system* option)\n",
    "    + *~/.gitconfig* or *~/.config/git/config* file (*--global* option)\n",
    "    + *config* file in the Git directory (*--local* option)\n",
    "\n"
   ]
  },
  {
   "cell_type": "markdown",
   "metadata": {
    "slideshow": {
     "slide_type": "slide"
    }
   },
   "source": [
    "### Setting up git (2)\n",
    "\n",
    "+ Basic settings\n",
    "```bash\n",
    "$ git config --global user.name \"John Doe\"\n",
    "$ git config --global user.email johndoe@example.com\n",
    "```\n",
    "\n",
    "+ Many other options, e.g:\n",
    "```bash\n",
    "$ git config --global core.editor emacs\n",
    "$ git config --global color.ui \"auto\"\n",
    "```    "
   ]
  },
  {
   "cell_type": "markdown",
   "metadata": {
    "slideshow": {
     "slide_type": "slide"
    }
   },
   "source": [
    "#### Sample settings"
   ]
  },
  {
   "cell_type": "code",
   "execution_count": 1,
   "metadata": {
    "slideshow": {
     "slide_type": "-"
    }
   },
   "outputs": [
    {
     "name": "stdout",
     "output_type": "stream",
     "text": [
      "user.email=angel.de.vicente@iac.es\r\n",
      "user.name=Angel de Vicente\r\n",
      "color.ui=true\r\n",
      "color.status=auto\r\n",
      "color.branch=auto\r\n",
      "credential.helper=cache --timeout=28800\r\n",
      "diff.jupyternotebook.command=git-nbdiffdriver diff\r\n",
      "merge.jupyternotebook.driver=git-nbmergedriver merge %O %A %B %L %P\r\n",
      "merge.jupyternotebook.name=jupyter notebook merge driver\r\n",
      "difftool.nbdime.cmd=git-nbdifftool diff \"$LOCAL\" \"$REMOTE\" \"$BASE\"\r\n",
      "difftool.prompt=false\r\n",
      "mergetool.nbdime.cmd=git-nbmergetool merge \"$BASE\" \"$LOCAL\" \"$REMOTE\" \"$MERGED\"\r\n",
      "mergetool.prompt=false\r\n",
      "core.repositoryformatversion=0\r\n",
      "core.filemode=true\r\n",
      "core.bare=false\r\n",
      "core.logallrefupdates=true\r\n",
      "remote.origin.url=https://github.com/angel-devicente/git-workshop.git\r\n",
      "remote.origin.fetch=+refs/heads/*:refs/remotes/origin/*\r\n",
      "branch.master.remote=origin\r\n",
      "branch.master.merge=refs/heads/master\r\n",
      "submodule.Demo.url=https://github.com/angel-devicente/git-workshop.git/Demo\r\n",
      "submodule.Demo.active=true\r\n",
      "submodule.git-it-electron.url=https://github.com/jlord/git-it-electron.git\r\n",
      "submodule.git-it-electron.active=true\r\n"
     ]
    }
   ],
   "source": [
    "! git config --list ## --show-origin"
   ]
  },
  {
   "cell_type": "markdown",
   "metadata": {
    "slideshow": {
     "slide_type": "slide"
    }
   },
   "source": [
    "### Getting help"
   ]
  },
  {
   "cell_type": "code",
   "execution_count": 2,
   "metadata": {
    "slideshow": {
     "slide_type": "-"
    }
   },
   "outputs": [
    {
     "name": "stdout",
     "output_type": "stream",
     "text": [
      "git version 2.25.1\r\n"
     ]
    }
   ],
   "source": [
    "! git --version"
   ]
  },
  {
   "cell_type": "code",
   "execution_count": 3,
   "metadata": {
    "slideshow": {
     "slide_type": "slide"
    }
   },
   "outputs": [
    {
     "name": "stdout",
     "output_type": "stream",
     "text": [
      "usage: git [--version] [--help] [-C <path>] [-c <name>=<value>]\r\n",
      "           [--exec-path[=<path>]] [--html-path] [--man-path] [--info-path]\r\n",
      "           [-p | --paginate | -P | --no-pager] [--no-replace-objects] [--bare]\r\n",
      "           [--git-dir=<path>] [--work-tree=<path>] [--namespace=<name>]\r\n",
      "           <command> [<args>]\r\n",
      "\r\n",
      "These are common Git commands used in various situations:\r\n",
      "\r\n",
      "start a working area (see also: git help tutorial)\r\n",
      "   clone             Clone a repository into a new directory\r\n",
      "   init              Create an empty Git repository or reinitialize an existing one\r\n",
      "\r\n",
      "work on the current change (see also: git help everyday)\r\n",
      "   add               Add file contents to the index\r\n",
      "   mv                Move or rename a file, a directory, or a symlink\r\n",
      "   restore           Restore working tree files\r\n",
      "   rm                Remove files from the working tree and from the index\r\n",
      "   sparse-checkout   Initialize and modify the sparse-checkout\r\n",
      "\r\n",
      "examine the history and state (see also: git help revisions)\r\n",
      "   bisect            Use binary search to find the commit that introduced a bug\r\n",
      "   diff              Show changes between commits, commit and working tree, etc\r\n",
      "   grep              Print lines matching a pattern\r\n",
      "   log               Show commit logs\r\n",
      "   show              Show various types of objects\r\n"
     ]
    }
   ],
   "source": [
    "! git --help | head -n 25"
   ]
  },
  {
   "cell_type": "code",
   "execution_count": 4,
   "metadata": {
    "slideshow": {
     "slide_type": "slide"
    }
   },
   "outputs": [
    {
     "name": "stdout",
     "output_type": "stream",
     "text": [
      "usage: git status [<options>] [--] <pathspec>...\r\n",
      "\r\n",
      "    -v, --verbose         be verbose\r\n",
      "    -s, --short           show status concisely\r\n",
      "    -b, --branch          show branch information\r\n",
      "    --show-stash          show stash information\r\n",
      "    --ahead-behind        compute full ahead/behind values\r\n",
      "    --porcelain[=<version>]\r\n",
      "                          machine-readable output\r\n",
      "    --long                show status in long format (default)\r\n",
      "    -z, --null            terminate entries with NUL\r\n",
      "    -u, --untracked-files[=<mode>]\r\n",
      "                          show untracked files, optional modes: all, normal, no. (Default: all)\r\n",
      "    --ignored[=<mode>]    show ignored files, optional modes: traditional, matching, no. (Default: traditional)\r\n",
      "    --ignore-submodules[=<when>]\r\n",
      "                          ignore changes to submodules, optional when: all, dirty, untracked. (Default: all)\r\n",
      "    --column[=<style>]    list untracked files in columns\r\n",
      "    --no-renames          do not detect renames\r\n",
      "    -M, --find-renames[=<n>]\r\n",
      "                          detect renames, optionally set similarity index\r\n",
      "\r\n"
     ]
    }
   ],
   "source": [
    "! git status -h"
   ]
  },
  {
   "cell_type": "code",
   "execution_count": 5,
   "metadata": {
    "slideshow": {
     "slide_type": "slide"
    }
   },
   "outputs": [
    {
     "name": "stdout",
     "output_type": "stream",
     "text": [
      "GIT-STATUS(1)                     Git Manual                     GIT-STATUS(1)\r\n",
      "\r\n",
      "NAME\r\n",
      "       git-status - Show the working tree status\r\n",
      "\r\n",
      "SYNOPSIS\r\n",
      "       git status [<options>...] [--] [<pathspec>...]\r\n",
      "\r\n",
      "DESCRIPTION\r\n",
      "       Displays paths that have differences between the index file and the\r\n",
      "       current HEAD commit, paths that have differences between the working\r\n",
      "       tree and the index file, and paths in the working tree that are not\r\n",
      "       tracked by Git (and are not ignored by gitignore(5)). The first are\r\n",
      "       what you would commit by running git commit; the second and third are\r\n",
      "       what you could commit by running git add before running git commit.\r\n",
      "\r\n",
      "OPTIONS\r\n",
      "       -s, --short\r\n",
      "           Give the output in the short-format.\r\n",
      "\r\n",
      "       -b, --branch\r\n",
      "           Show the branch and tracking info even in short-format.\r\n"
     ]
    }
   ],
   "source": [
    "! git status --help | head -n 22"
   ]
  },
  {
   "cell_type": "markdown",
   "metadata": {
    "slideshow": {
     "slide_type": "-"
    }
   },
   "source": [
    "<img src=\"Images/meeting.jpg\" style=\"width: 5%;\"/>"
   ]
  },
  {
   "cell_type": "markdown",
   "metadata": {
    "slideshow": {
     "slide_type": "slide"
    }
   },
   "source": [
    "### Main ideas in Git\n",
    "\n",
    "+ Nearly all operations are local \n",
    "    + *.git* directory keeps all history\n",
    "    + very little that you cannot do when offline\n",
    "+ Integrity\n",
    "    + Everything checksummed before stored\n",
    "    + Hashes: *24b9da6552252987aa493b52f8696cd6d3b00373*\n",
    "\n",
    "+ Snapshots, not differences\n"
   ]
  },
  {
   "cell_type": "markdown",
   "metadata": {
    "slideshow": {
     "slide_type": "slide"
    }
   },
   "source": [
    "+ Delta-based VCS\n",
    "<img src=\"Images/basics/deltas.png\" style=\"width: 800px;\"/>  "
   ]
  },
  {
   "cell_type": "markdown",
   "metadata": {
    "slideshow": {
     "slide_type": "slide"
    }
   },
   "source": [
    "+ Snapshots (Git)\n",
    "<img src=\"Images/basics/snapshots.png\" style=\"width:800px;\"/>"
   ]
  },
  {
   "cell_type": "markdown",
   "metadata": {
    "slideshow": {
     "slide_type": "slide"
    }
   },
   "source": [
    "## 2. Git basic usage "
   ]
  },
  {
   "cell_type": "markdown",
   "metadata": {
    "slideshow": {
     "slide_type": "slide"
    }
   },
   "source": [
    "### Using git as a local VCS \n",
    "\n",
    "<img src=\"Images/basics/local.png\" style=\"width: 40%;\"/>"
   ]
  },
  {
   "cell_type": "markdown",
   "metadata": {
    "slideshow": {
     "slide_type": "slide"
    }
   },
   "source": [
    "### Create a repository \n",
    "\n",
    "#### `git init`"
   ]
  },
  {
   "cell_type": "code",
   "execution_count": 6,
   "metadata": {
    "scrolled": true,
    "slideshow": {
     "slide_type": "-"
    }
   },
   "outputs": [
    {
     "name": "stdout",
     "output_type": "stream",
     "text": [
      "total 16\n",
      "drwxr-xr-x  3 angelv angelv 4096 May  4 11:50 .\n",
      "drwxr-xr-x 10 angelv angelv 4096 May 11 07:21 ..\n",
      "-rw-r--r--  1 angelv angelv    0 May  4 11:49 CONTRIBUTING.md\n",
      "drwxr-xr-x  8 angelv angelv 4096 May 11 08:10 .git\n",
      "-rw-r--r--  1 angelv angelv    0 May  4 11:48 LICENSE\n",
      "-rw-r--r--  1 angelv angelv    0 May  4 11:47 newtest.py\n",
      "-rw-r--r--  1 angelv angelv   11 May  4 11:50 README.md\n"
     ]
    }
   ],
   "source": [
    "%%bash\n",
    "\n",
    "cd ../Demo\n",
    "git init -q\n",
    "ls -al "
   ]
  },
  {
   "cell_type": "markdown",
   "metadata": {
    "slideshow": {
     "slide_type": "slide"
    }
   },
   "source": [
    "+ All repository information goes to .git directory (DO NOT EDIT by hand)"
   ]
  },
  {
   "cell_type": "code",
   "execution_count": 7,
   "metadata": {
    "slideshow": {
     "slide_type": "-"
    }
   },
   "outputs": [
    {
     "name": "stdout",
     "output_type": "stream",
     "text": [
      "branches\n",
      "COMMIT_EDITMSG\n",
      "config\n",
      "description\n",
      "HEAD\n",
      "hooks\n",
      "index\n",
      "info\n",
      "logs\n",
      "objects\n",
      "refs\n"
     ]
    }
   ],
   "source": [
    "%%bash\n",
    "\n",
    "ls ../Demo/.git"
   ]
  },
  {
   "cell_type": "markdown",
   "metadata": {
    "slideshow": {
     "slide_type": "slide"
    }
   },
   "source": [
    "### Recording changes\n",
    "\n",
    "+ `git status`\n",
    "+ `git add`\n",
    "+ `git commit`\n",
    "+ `git rm`\n",
    "+ `git mv`"
   ]
  },
  {
   "cell_type": "markdown",
   "metadata": {
    "slideshow": {
     "slide_type": "slide"
    }
   },
   "source": [
    "+ Tracking changes\n",
    "<img src=\"Images/basics/lifecycle.png\" style=\"width: 900px;\"/>\n"
   ]
  },
  {
   "cell_type": "markdown",
   "metadata": {
    "slideshow": {
     "slide_type": "slide"
    }
   },
   "source": [
    "+ Commiting changes\n",
    "<img src=\"Images/basics/commiting.png\" style=\"width: 90%;\"/>\n"
   ]
  },
  {
   "cell_type": "markdown",
   "metadata": {
    "scrolled": false,
    "slideshow": {
     "slide_type": "slide"
    }
   },
   "source": [
    "### Recording changes demo\n",
    "\n",
    "[*demo-1-1.cast*](https://asciinema.org/a/Rff5PnrBC79FMI7ThpbWBLX8D?autoplay=1&cols=180&rows=40)"
   ]
  },
  {
   "cell_type": "markdown",
   "metadata": {
    "slideshow": {
     "slide_type": "slide"
    }
   },
   "source": [
    "### Viewing history\n",
    "\n",
    "+ `git log`\n",
    "+ `git diff`"
   ]
  },
  {
   "cell_type": "markdown",
   "metadata": {
    "slideshow": {
     "slide_type": "-"
    }
   },
   "source": [
    "### Viewing history demo\n",
    "\n",
    "[*demo-1-2.cast*](https://asciinema.org/a/zHPylAmuKN3TWmGhQJiPOidZd?autoplay=1&cols=180&rows=40)"
   ]
  },
  {
   "cell_type": "markdown",
   "metadata": {
    "slideshow": {
     "slide_type": "slide"
    }
   },
   "source": [
    "+ Commit messages are important (*don't do this*)\n",
    "<img src=\"Images/basics/bad_commits.png\" style=\"width: 90%;\"/>"
   ]
  },
  {
   "cell_type": "markdown",
   "metadata": {
    "slideshow": {
     "slide_type": "slide"
    }
   },
   "source": [
    "### Undoing things\n",
    "\n",
    "+ `git commit --amend`\n",
    "+ `git restore --staged CONTRIBUTING.md`\n",
    "+ `git restore README.md` \n",
    "\n"
   ]
  },
  {
   "cell_type": "markdown",
   "metadata": {
    "slideshow": {
     "slide_type": "slide"
    }
   },
   "source": [
    "### Undoing things demo\n",
    "\n",
    "[*demo-1-3.cast*](https://asciinema.org/a/Sq5xBDSbbbdJ1AxdZmz755xaJ?autoplay=1&cols=180&rows=40)\n",
    "\n",
    "+ In older versions of `git`, instead of `git restore` you would use:\n",
    " + `git reset HEAD ...` \n",
    " + and `git checkout ...` \n",
    "\n",
    "    (see examples in https://git-scm.com/book/en/v2/Git-Basics-Undoing-Things)"
   ]
  },
  {
   "cell_type": "markdown",
   "metadata": {
    "slideshow": {
     "slide_type": "slide"
    }
   },
   "source": [
    "### Practice time\n",
    "\n",
    "<img src=\"Images/helmet.jpg\" style=\"width: 5%;\"/>\n",
    "\n",
    "<font size=\"4\">\n",
    "\n",
    "+ Get some repository with plenty of history (we'll see `git clone` later)\n",
    "  + `git clone https://github.com/jlord/git-it-electron.git`\n",
    "  + cd git-it-electron\n",
    "  \n",
    "+ How many commits in total are made by Brendan Froster?\n",
    "+ Find the date and the hash of the commit by Nikolai Plath where \"GitHub\" is mentioned in the commit message.\n",
    "+ Undo the change to the `README.md` file made by him. \n",
    "    + *Hints:* \n",
    "        + to find what was changed in a commit you can use `git show`. Get help for this command.\n",
    "        + to revert changes do it manually or check the command `git revert`\n",
    "+ Add files `BUGS.md` and `FIXES.md` and commit with message \"Fixes\"\n",
    "+ Add some content to `BUGS.md` and amend the commit with message \"Fixes and bugs\"\n",
    "+ Rename `BUGS.md` and delete `FIXES.md` and commit again (amending)    \n",
    "    \n",
    "</font>"
   ]
  },
  {
   "cell_type": "markdown",
   "metadata": {
    "slideshow": {
     "slide_type": "slide"
    }
   },
   "source": [
    "###  Command-line vs GUIs\n",
    "\n",
    "+ Command-line lets you:\n",
    "    + access *every* aspect of Git\n",
    "    + can be automated in scripts\n",
    "    + 'lingua franca' \n",
    "    \n",
    "+ GUIs\n",
    "    + the entry barrier for users is lower\n",
    "    + can group common usage patterns\n",
    "    + help with advanced options\n",
    "    + choose your poison: GitKraken, GitAhead, Magit, ...\n",
    "     "
   ]
  },
  {
   "cell_type": "markdown",
   "metadata": {
    "slideshow": {
     "slide_type": "slide"
    }
   },
   "source": [
    "+ GitKraken https://www.gitkraken.com/\n",
    "\n",
    "<img src=\"Images/GUIs/gitkraken.png\" style=\"width: 68%;\"/>"
   ]
  },
  {
   "cell_type": "markdown",
   "metadata": {
    "slideshow": {
     "slide_type": "slide"
    }
   },
   "source": [
    "+ GitAhead https://gitahead.github.io/gitahead.com/\n",
    "\n",
    "<img src=\"Images/GUIs/gitahead.jpg\" style=\"width: 68%;\"/>"
   ]
  },
  {
   "cell_type": "markdown",
   "metadata": {
    "slideshow": {
     "slide_type": "slide"
    }
   },
   "source": [
    "+ Magit (for Emacs) https://magit.vc/\n",
    "\n",
    "<img src=\"Images/GUIs/magit.png\" style=\"width: 75%;\"/>"
   ]
  },
  {
   "cell_type": "markdown",
   "metadata": {
    "slideshow": {
     "slide_type": "slide"
    }
   },
   "source": [
    "## 3. Working with remotes "
   ]
  },
  {
   "cell_type": "markdown",
   "metadata": {
    "slideshow": {
     "slide_type": "slide"
    }
   },
   "source": [
    "### Remote repositories\n",
    "\n",
    "+ Remote repositories are versions of your project that are hosted:\n",
    "    + on the Internet\n",
    "    + or more generally in the network somewhere (even in your local machine)\n",
    "+ Crucial for collaborating with others:\n",
    "    + pushing and pulling data from remotes\n",
    "+ GitHub, GitLab, Bitbucket, etc. are on-line remotes with:\n",
    "    + extras for collaboration\n",
    "    + features for code development (e.g. CI/CD)\n",
    "    "
   ]
  },
  {
   "cell_type": "markdown",
   "metadata": {
    "slideshow": {
     "slide_type": "slide"
    }
   },
   "source": [
    "### Basic remotes commands\n",
    "\n",
    "+ `git remote ...`\n",
    "    + `-v` `add` `show` `rename` `remove`\n",
    "+ `git ...`\n",
    "    + `clone`  \n",
    "    + `pull` \n",
    "    + `push`\n",
    "    + `fetch` \n",
    "    + `merge`\n",
    "\n"
   ]
  },
  {
   "cell_type": "code",
   "execution_count": 8,
   "metadata": {
    "slideshow": {
     "slide_type": "skip"
    }
   },
   "outputs": [
    {
     "name": "stdout",
     "output_type": "stream",
     "text": [
      "/home/angelv/Work/POLMAG/Outreach/Presentations/GIT-SUNDIAL/git-workshop/git-it-electron\n"
     ]
    }
   ],
   "source": [
    "%cd /home/angelv/Work/POLMAG/Outreach/Presentations/GIT-SUNDIAL/git-workshop/git-it-electron"
   ]
  },
  {
   "cell_type": "code",
   "execution_count": 9,
   "metadata": {
    "slideshow": {
     "slide_type": "slide"
    }
   },
   "outputs": [
    {
     "name": "stdout",
     "output_type": "stream",
     "text": [
      "origin\thttps://github.com/jlord/git-it-electron.git (fetch)\r\n",
      "origin\thttps://github.com/jlord/git-it-electron.git (push)\r\n"
     ]
    }
   ],
   "source": [
    "! git remote -v"
   ]
  },
  {
   "cell_type": "code",
   "execution_count": 10,
   "metadata": {
    "slideshow": {
     "slide_type": "-"
    }
   },
   "outputs": [
    {
     "name": "stdout",
     "output_type": "stream",
     "text": [
      "* remote origin\r\n",
      "  Fetch URL: https://github.com/jlord/git-it-electron.git\r\n",
      "  Push  URL: https://github.com/jlord/git-it-electron.git\r\n",
      "  HEAD branch: master\r\n",
      "  Remote branches:\r\n",
      "    IUTInfoAix-M2105-french-translation      tracked\r\n",
      "    dependabot/npm_and_yarn/handlebars-4.3.0 tracked\r\n",
      "    fix-menu                                 tracked\r\n",
      "    lang-tweaks                              tracked\r\n",
      "    master                                   tracked\r\n",
      "  Local branch configured for 'git pull':\r\n",
      "    master merges with remote master\r\n",
      "  Local ref configured for 'git push':\r\n",
      "    master pushes to master (up to date)\r\n"
     ]
    }
   ],
   "source": [
    "! git remote show origin"
   ]
  },
  {
   "cell_type": "markdown",
   "metadata": {
    "slideshow": {
     "slide_type": "slide"
    }
   },
   "source": [
    "### Getting started with GitHub (similar for GitLab, Bitbucket, etc.)\n",
    "\n",
    "+ Login to your GitHub account\n",
    "+ Two ways to get a new repository:\n",
    "    + *Fork* an existing repository \n",
    "    + Create a new repository"
   ]
  },
  {
   "cell_type": "markdown",
   "metadata": {
    "slideshow": {
     "slide_type": "slide"
    }
   },
   "source": [
    "### *Fork* a repository from GitHub into your account\n",
    "\n",
    "+ Fork the repository *git-it-electron* \n",
    "   (https://github.com/jlord/git-it-electron)\n",
    "   \n",
    "<img src=\"Images/github/fork-github.png\" style=\"width: 68%;\"/>   "
   ]
  },
  {
   "cell_type": "markdown",
   "metadata": {
    "slideshow": {
     "slide_type": "slide"
    }
   },
   "source": [
    "### *Clone* your newly *forked* repository\n",
    "\n",
    "<img src=\"Images/github/clone-github.png\" style=\"width: 68%;\"/>"
   ]
  },
  {
   "cell_type": "code",
   "execution_count": 11,
   "metadata": {
    "slideshow": {
     "slide_type": "skip"
    }
   },
   "outputs": [
    {
     "name": "stdout",
     "output_type": "stream",
     "text": [
      "/home/angelv/Work/POLMAG/Outreach/Presentations/GIT-SUNDIAL/git-workshop\n"
     ]
    }
   ],
   "source": [
    "%cd /home/angelv/Work/POLMAG/Outreach/Presentations/GIT-SUNDIAL/git-workshop"
   ]
  },
  {
   "cell_type": "code",
   "execution_count": 12,
   "metadata": {
    "slideshow": {
     "slide_type": "slide"
    }
   },
   "outputs": [
    {
     "name": "stdout",
     "output_type": "stream",
     "text": [
      "/home/angelv/Work/POLMAG/Outreach/Presentations/GIT-SUNDIAL/git-workshop\r\n"
     ]
    }
   ],
   "source": [
    "! pwd"
   ]
  },
  {
   "cell_type": "code",
   "execution_count": 13,
   "metadata": {
    "slideshow": {
     "slide_type": "-"
    }
   },
   "outputs": [
    {
     "name": "stdout",
     "output_type": "stream",
     "text": [
      "fatal: destination path 'git-it-electron' already exists and is not an empty directory.\r\n"
     ]
    }
   ],
   "source": [
    "# USE YOUR forked repository, not mine!\n",
    "  \n",
    "! git clone https://github.com/angel-devicente/git-it-electron.git    "
   ]
  },
  {
   "cell_type": "code",
   "execution_count": 14,
   "metadata": {
    "slideshow": {
     "slide_type": "-"
    }
   },
   "outputs": [
    {
     "name": "stdout",
     "output_type": "stream",
     "text": [
      "fatal: destination path 'git-it-cp1' already exists and is not an empty directory.\r\n"
     ]
    }
   ],
   "source": [
    "! git clone https://github.com/angel-devicente/git-it-electron.git git-it-cp1    "
   ]
  },
  {
   "cell_type": "code",
   "execution_count": 15,
   "metadata": {
    "slideshow": {
     "slide_type": "-"
    }
   },
   "outputs": [
    {
     "name": "stdout",
     "output_type": "stream",
     "text": [
      "origin\thttps://github.com/angel-devicente/git-workshop.git (fetch)\r\n",
      "origin\thttps://github.com/angel-devicente/git-workshop.git (push)\r\n"
     ]
    }
   ],
   "source": [
    "! cd git-it-cp1\n",
    "! git remote -v"
   ]
  },
  {
   "cell_type": "markdown",
   "metadata": {
    "slideshow": {
     "slide_type": "slide"
    }
   },
   "source": [
    "+ Create a new file in the git-it-cp1 repository and *push* it to GitHub\n",
    "\n",
    "\n",
    "<img src=\"Images/github/pushed.png\" style=\"width: 45%;\"/>\n",
    "\n",
    "<img src=\"Images/meeting.jpg\" style=\"width: 5%;\"/>"
   ]
  },
  {
   "cell_type": "markdown",
   "metadata": {
    "slideshow": {
     "slide_type": "slide"
    }
   },
   "source": [
    "### Collaborating in GitHub\n",
    "\n",
    "+ The commands `fetch`/`merge` and `pull` are useful when collaborating with 'others'\n",
    "    + another collaborator has `push`ed changes to the repository that you want to get in your local copy\n",
    "    + you want to synchronize your own changes in different computers\n",
    "    + you want to get changes from another repository branch (*we will see this later on*)\n",
    "    \n",
    "    "
   ]
  },
  {
   "cell_type": "markdown",
   "metadata": {
    "slideshow": {
     "slide_type": "slide"
    }
   },
   "source": [
    "### Granting collaborators access in GitHub\n",
    "\n",
    "<img src=\"Images/github/access.png\" style=\"width: 50%;\"/>"
   ]
  },
  {
   "cell_type": "markdown",
   "metadata": {
    "slideshow": {
     "slide_type": "slide"
    }
   },
   "source": [
    "### Let's simplify and collaborate with ourselves\n",
    "\n",
    "+ Clone a second copy of `git-it-electron`, now to directory `git-it-cp2` "
   ]
  },
  {
   "cell_type": "code",
   "execution_count": 16,
   "metadata": {
    "slideshow": {
     "slide_type": "-"
    }
   },
   "outputs": [
    {
     "name": "stdout",
     "output_type": "stream",
     "text": [
      "fatal: destination path 'git-it-cp2' already exists and is not an empty directory.\r\n"
     ]
    }
   ],
   "source": [
    "! git clone https://github.com/angel-devicente/git-it-electron.git git-it-cp2"
   ]
  },
  {
   "cell_type": "markdown",
   "metadata": {
    "slideshow": {
     "slide_type": "slide"
    }
   },
   "source": [
    "### Pull and fetch/merge demo\n",
    "\n",
    "[*demo-1-4.cast*](https://asciinema.org/a/9UTZj3TVwXm6jpftZ2ZcOdk5d?autoplay=1&cols=180&rows=40)\n",
    "\n",
    "+ As *cp1* I make some changes and `push` to GitHub. Later, as *cp2* we `pull` those changes.\n",
    "+ Then, as *cp2* I make some changes and `push` to GitHub. Later, as *cp1* I:\n",
    "    + first `fetch` the changes, so I can review them\n",
    "    + when happy with introducing those changes I can `merge` them to my repository.\n",
    "        (*merge* in this simple case is basically just *absorb* all the changes) \n",
    "\n",
    "+ Did you notice *origin/master*? *master* is **tracking** *origin/master*. Confusing? It will become clear later when talking about branches. Hold on!"
   ]
  },
  {
   "cell_type": "markdown",
   "metadata": {
    "slideshow": {
     "slide_type": "slide"
    }
   },
   "source": [
    "### Create a new repository in GitHub (same idea for GitLab, Bitbucket, etc.)\n",
    "\n",
    "+ Create an empty repository in GitHub ...\n",
    "   \n",
    "<img src=\"Images/github/new_repo.png\" style=\"width: 40%;\"/>   "
   ]
  },
  {
   "cell_type": "markdown",
   "metadata": {
    "slideshow": {
     "slide_type": "slide"
    }
   },
   "source": [
    "+ ... and then follow the instructions given by GitHub (reproduced below).\n",
    "    + all steps should be familiar \n",
    "    + but why *git push -u origin master*?\n",
    "    + what happens if you just use *git push* as in the previous demo?\n",
    "\n",
    "```\n",
    "echo \"# git-it-test\" >> README.md\n",
    "git init\n",
    "git add README.md\n",
    "git commit -m \"first commit\"\n",
    "git remote add origin https://github.com/angel-devicente/git-it-test.git\n",
    "git push -u origin master\n",
    "```\n",
    "\n",
    "<img src=\"Images/meeting.jpg\" style=\"width: 5%;\"/>"
   ]
  },
  {
   "cell_type": "markdown",
   "metadata": {
    "slideshow": {
     "slide_type": "slide"
    }
   },
   "source": [
    "## 4. Branches"
   ]
  },
  {
   "cell_type": "markdown",
   "metadata": {
    "slideshow": {
     "slide_type": "slide"
    }
   },
   "source": [
    "### Branches\n",
    "\n",
    "+ A lot of the power (and some confusion) in Git comes from branches\n",
    "+ Branches are the *killer* feature of Git, very lightweight compared to other VCS\n",
    "+ This encourages workflows that create branches and merge them very often.\n",
    "\n",
    "##### So, let's try and see some of the Git internals to understand what branches are...\n",
    "  (see https://git-scm.com/book/en/v2/Git-Branching-Branches-in-a-Nutshell)"
   ]
  },
  {
   "cell_type": "markdown",
   "metadata": {
    "slideshow": {
     "slide_type": "slide"
    }
   },
   "source": [
    "+ A *commit* points to a *tree* object, and this to *blob*s\n",
    "    + For us the important part is just the *commit*, which points to a *snapshot* of our work\n",
    "\n",
    "<img src=\"Images/branches/commit-and-tree.png\" style=\"width: 60%;\"/>\t "
   ]
  },
  {
   "cell_type": "markdown",
   "metadata": {
    "slideshow": {
     "slide_type": "slide"
    }
   },
   "source": [
    "+ Creating more *commit*s, keeps a linked list\n",
    "    + (which is basically what you see when you do `git log`)\n",
    "    \n",
    "<img src=\"Images/branches/commits-and-parents.png\" style=\"width: 70%;\"/>  "
   ]
  },
  {
   "cell_type": "markdown",
   "metadata": {
    "slideshow": {
     "slide_type": "slide"
    }
   },
   "source": [
    "+ A *branch* is just a pointer to one of these *commit*s\n",
    "    + *master* is created when you do `git init`, but it is no special\n",
    "    + *HEAD* points to the branch we are working on\n",
    "    \n",
    "<img src=\"Images/branches/branch-and-history.png\" style=\"width: 55%;\"/>\t"
   ]
  },
  {
   "cell_type": "markdown",
   "metadata": {
    "slideshow": {
     "slide_type": "slide"
    }
   },
   "source": [
    "+ Creating a branch \n",
    "    + If we are working in *master* and we do `git branch testing`\n",
    "        + *testing* branch is created, but we are still working on *master*\n",
    "        + so you can see *HEAD* is still pointing to *master* \n",
    "    \n",
    "<img src=\"Images/branches/head-to-master.png\" style=\"width: 45%;\"/>"
   ]
  },
  {
   "cell_type": "markdown",
   "metadata": {
    "slideshow": {
     "slide_type": "slide"
    }
   },
   "source": [
    "+ To work with another branch\n",
    "    + `git checkout testing` makes *HEAD* point to testing\n",
    "        + when you switch branches in Git:\n",
    "            + **files in your working directory will change**. \n",
    "            + **if Git cannot do it cleanly, it will not let you switch at all**.\n",
    "        \n",
    "<img src=\"Images/branches/head-to-testing.png\" style=\"width: 45%;\"/>"
   ]
  },
  {
   "cell_type": "markdown",
   "metadata": {
    "slideshow": {
     "slide_type": "slide"
    }
   },
   "source": [
    "+ Committing to *testing* \n",
    "    + makes *testing* branch move forward\n",
    "    + but *master* branch still points to the same commit\n",
    "\n",
    "<img src=\"Images/branches/advance-testing.png\" style=\"width: 60%;\"/>\t"
   ]
  },
  {
   "cell_type": "markdown",
   "metadata": {
    "slideshow": {
     "slide_type": "slide"
    }
   },
   "source": [
    "+ Changing branches\n",
    "    + `git checkout master` (if *working tree* is *dirty* we won't be able to change branches)\n",
    "    \n",
    "<img src=\"Images/branches/checkout-master.png\" style=\"width: 60%;\"/>\t "
   ]
  },
  {
   "cell_type": "markdown",
   "metadata": {
    "slideshow": {
     "slide_type": "slide"
    }
   },
   "source": [
    "### Practice time\n",
    "<img src=\"Images/helmet.jpg\" style=\"width: 5%;\"/>\n",
    "\n",
    "+ In *git-it-cp1*:\n",
    "    + create a new branch *test_branch1* and change to it\n",
    "    + add a line to a file and commit changes\n",
    "    + change back to branch *master* and verify the added line is not present in this branch\n",
    "    + use `git log` to view the history of all branches (should be able to see in first position both branches: *master* and *test_branch1*, plus *HEAD*)\n",
    "    \n",
    "[*demo-1-5.cast*](https://asciinema.org/a/0du1PPZviaW6EoQ7DSATEiAqe?autoplay=1&cols=180&rows=40)\n",
    "<img src=\"Images/meeting.jpg\" style=\"width: 4%;\"/>"
   ]
  },
  {
   "cell_type": "markdown",
   "metadata": {
    "slideshow": {
     "slide_type": "slide"
    }
   },
   "source": [
    "### Remote Branches\n",
    "\n",
    "If you read https://git-scm.com/book/en/v2/Git-Branching-Remote-Branches, you get all the details, but it can be a bit confusing. Most of the time, you just need three concepsts:\n",
    "\n",
    "+ Remote branch: a branch in a **remote** repository, for example:\n",
    "    + GitHub, \n",
    "    + a repository in another PC of yours, \n",
    "    + another directory in the same machine \n",
    "+ Remote-tracking branch: a **local** *bookmark* pointing to a remote branch\n",
    "    + can become out-of-date if the remote branch gets new commits\n",
    "+ Tracking branch: a **local** branch, linking the *local* branch to the *remote* branch.\n",
    "\n",
    "##### Let's see some examples"
   ]
  },
  {
   "cell_type": "markdown",
   "metadata": {
    "slideshow": {
     "slide_type": "slide"
    }
   },
   "source": [
    "+ `git clone` will take the remote repository in *git.ourcompany.com* and copy it to your local repository.\n",
    "    + it will create remote-tracking branches (here *origin/master*) \n",
    "    + it will create and checkout a *local* tracking branch named *master*, (Only one local branch is created, linked to the currently active branch in the remote repository).  \n",
    "    \n",
    "<img src=\"Images/branches/remote-branches-1.png\" style=\"width: 40%;\"/>\t"
   ]
  },
  {
   "cell_type": "code",
   "execution_count": 17,
   "metadata": {
    "slideshow": {
     "slide_type": "slide"
    }
   },
   "outputs": [
    {
     "name": "stdout",
     "output_type": "stream",
     "text": [
      "cp1-local\t/home/angelv/Work/POLMAG/Outreach/Presentations/GIT-SUNDIAL/git-workshop/git-it-cp1 (fetch)\n",
      "cp1-local\t/home/angelv/Work/POLMAG/Outreach/Presentations/GIT-SUNDIAL/git-workshop/git-it-cp1 (push)\n",
      "origin\thttps://github.com/angel-devicente/git-it-electron.git (fetch)\n",
      "origin\thttps://github.com/angel-devicente/git-it-electron.git (push)\n",
      "\n",
      "  fix-menu-cp1\n",
      "  hotfix\n",
      "  iss53\n",
      "* master\n",
      "  off_test_branch1\n",
      "  test_branch1\n",
      "  remotes/cp1-local/fix-menu\n",
      "  remotes/cp1-local/master\n",
      "  remotes/cp1-local/test_branch1\n",
      "  remotes/origin/HEAD -> origin/master\n",
      "  remotes/origin/IUTInfoAix-M2105-french-translation\n",
      "  remotes/origin/dependabot/npm_and_yarn/handlebars-4.3.0\n",
      "  remotes/origin/fix-menu\n",
      "  remotes/origin/lang-tweaks\n",
      "  remotes/origin/master\n",
      "\n",
      "  fix-menu-cp1     79e8e3c [cp1-local/fix-menu] Prepend file:// to path\n",
      "  hotfix           ae88bc9 Fixing bug in hotfix\n",
      "  iss53            ffd84fc another function in iss53\n",
      "* master           16f6c47 [origin/master] Changes by cp1 and cp2. Conflicts solved\n",
      "  off_test_branch1 6e41f93 Added line in cp2 off_test_b1 to be pushed to cp1\n",
      "  test_branch1     204a805 Added line in cp2 to be pushed to cp1\n"
     ]
    }
   ],
   "source": [
    "%%bash\n",
    "cd git-it-cp2\n",
    "git remote -vv\n",
    "echo\n",
    "git branch --all\n",
    "echo\n",
    "git branch -vv"
   ]
  },
  {
   "cell_type": "markdown",
   "metadata": {
    "slideshow": {
     "slide_type": "slide"
    }
   },
   "source": [
    "+ Remote and local repositories can become unsynchronized\n",
    "    + Here there were commits in the local branch and the remote branch\n",
    "    + Note that the remote-tracking branch *origin/master* doesn't move (until you use `git fetch` your view of the remote repository is out-of-date)\n",
    "    \n",
    "<img src=\"Images/branches/remote-branches-2.png\" style=\"width: 55%;\"/>\t"
   ]
  },
  {
   "cell_type": "markdown",
   "metadata": {
    "slideshow": {
     "slide_type": "slide"
    }
   },
   "source": [
    "+ `git fetch` will synchronize your remote-tracking branch\n",
    "    + at this point *origin/master* and *master* have diverged (will have to use `git merge` or similar)\n",
    "    \n",
    "<img src=\"Images/branches/remote-branches-3.png\" style=\"width: 50%;\"/>\t"
   ]
  },
  {
   "cell_type": "markdown",
   "metadata": {
    "slideshow": {
     "slide_type": "slide"
    }
   },
   "source": [
    "+ You can have many remotes\n",
    "\n",
    "<img src=\"Images/branches/remote-branches-4.png\" style=\"width: 55%;\"/>\t"
   ]
  },
  {
   "cell_type": "markdown",
   "metadata": {
    "slideshow": {
     "slide_type": "slide"
    }
   },
   "source": [
    "+ ... `git fetch` to synchronize their state to your repository\n",
    "\n",
    "<img src=\"Images/branches/remote-branches-5.png\" style=\"width: 60%;\"/>\t"
   ]
  },
  {
   "cell_type": "markdown",
   "metadata": {
    "slideshow": {
     "slide_type": "slide"
    }
   },
   "source": [
    "+ You can `fetch/merge` or `pull` from remote-tracking branches without creating local branches\n",
    "+ If you want to work (and perhaps contribute) to a remote branch, you can create a local branch out of it:\n",
    "    + `git checkout <branch>` (if no name conflict, will just create a tracking branch\n",
    "    + `git checkout -b <branch> --track <remote/branch>` (specific, in case name there are name conflicts)\n",
    "    \n",
    "    \n",
    " #### Let's see a demo\n",
    " \n",
    " [*demo-1-6.cast*](https://asciinema.org/a/wlBMwwJXF24xYPqzfi3QS91SG?autoplay=1&cols=180&rows=40)\n",
    "\n",
    "<img src=\"Images/meeting.jpg\" style=\"width: 4%;\"/>\n",
    " \n",
    " "
   ]
  },
  {
   "cell_type": "markdown",
   "metadata": {
    "slideshow": {
     "slide_type": "slide"
    }
   },
   "source": [
    "### Practice time\n",
    "<img src=\"Images/helmet.jpg\" style=\"width: 5%;\"/>\n",
    "\n",
    "+ In *git-it-cp2* follow similar steps to the previous demo, so that:\n",
    "    + you set the local repository *git-it-cp1* as a remote \n",
    "    + checkout the branch test_branch1\n",
    "    + commit some change to it\n",
    "    + push it to the repository *git-it-cp1*\n",
    "        + if you just do `git push` it should work, (do you understand why?)\n",
    "        + when you are not in a tracking branch you can also push it to a remote branch, (do you understand how?)\n",
    "          \n",
    "        \n",
    "<img src=\"Images/meeting.jpg\" style=\"width: 4%;\"/>"
   ]
  },
  {
   "cell_type": "markdown",
   "metadata": {
    "slideshow": {
     "slide_type": "slide"
    }
   },
   "source": [
    "### Most of the time, just one remote (probably GitHub)\n",
    "\n",
    "+ GitHub is just another remote, very useful for collaboration, but just another remote\n",
    "+ Creating remotes in other machines or even in different directories as we did can be very useful\n",
    "    + I use it regularly: one PC has required GUI software, the other PC required documentation software. \n",
    "      Need to push changes quickly from one to the other without making many commits in the common repository\n",
    "      \n",
    "##### Now you understand branches (local and remotes) properly, but with several branches trouble will inevitably knock on your door at some point...      "
   ]
  },
  {
   "cell_type": "markdown",
   "metadata": {
    "slideshow": {
     "slide_type": "slide"
    }
   },
   "source": [
    "### The problem: divergent branches (applies to local and remote branches)\n",
    "\n",
    "+ Before we created a *testing* branch and committed some changes. \n",
    "+ Later we went back to the *master* branch. \n",
    "+ At that point, if you commit to master, you end up with divergent branches. \n",
    "+ If you want to incorporate the changes in *testing* to *master*, you might have conflicts (maybe both commits updated the same function).\n",
    "\n",
    "<img src=\"Images/branches/advance-master.png\" style=\"width: 45%;\"/>\t"
   ]
  },
  {
   "cell_type": "markdown",
   "metadata": {
    "slideshow": {
     "slide_type": "slide"
    }
   },
   "source": [
    "## 5. Merging "
   ]
  },
  {
   "cell_type": "markdown",
   "metadata": {
    "slideshow": {
     "slide_type": "slide"
    }
   },
   "source": [
    "### Two possible solutions to divergent branches\n",
    "\n",
    "#### `git merge`\n",
    "\n",
    "Incorporates changes from the named commits (since the time their histories diverged from the current branch) into the current branch.\n",
    "\n",
    "#### `git rebase`  (*see Section 7*)\n",
    "\n",
    "Apply all changes made in the current branch on top of another branch. (*This is a more advanced command, and you have to be careful with it*)\n",
    "\n"
   ]
  },
  {
   "cell_type": "markdown",
   "metadata": {
    "slideshow": {
     "slide_type": "slide"
    }
   },
   "source": [
    "### Merging\n",
    "\n",
    "+ Fast-forward merges \n",
    "    + the simplest, we already saw an example of this in *demo-1-4.cast*\n",
    "+ No-conflict merges \n",
    "    + very simple, and very common if working on your own\n",
    "+ Merges with conflicts \n",
    "    + very usual when collaborating with others, specially if long time between commits\n"
   ]
  },
  {
   "cell_type": "markdown",
   "metadata": {
    "slideshow": {
     "slide_type": "slide"
    }
   },
   "source": [
    "### Fast-forward \"merge\"\n",
    "\n",
    "+ Imagine you are in a situation like this, where:\n",
    "    + you have two branches, started off the *master* branch, where you made one commit to each.\n",
    "    + you want now to incorporate to *master* the changes done in branch *hotfix*\n",
    "\n",
    "<img src=\"Images/merge/basic-branching-4.png\" style=\"width: 45%;\"/>\t"
   ]
  },
  {
   "cell_type": "markdown",
   "metadata": {
    "slideshow": {
     "slide_type": "slide"
    }
   },
   "source": [
    "### Fast-forward \"merge\" (2)\n",
    "\n",
    "+ Check out the master branch and merge the hotfix branch\n",
    "    + This is a fast-forward merge (i.e. nothing really to merge, not divergent branch)\n",
    "\n",
    "<img src=\"Images/merge/basic-branching-5.png\" style=\"width: 42%;\"/>\t\n",
    "\n",
    "[*demo-1-7.cast*](https://asciinema.org/a/ZbFhHkGvVaIGWF3HiF9ZiSyUG?autoplay=1&cols=180&rows=40)  [Note the *behind*, *ahead* comments when doing `git branch -vv`]\n",
    "\n"
   ]
  },
  {
   "cell_type": "markdown",
   "metadata": {
    "slideshow": {
     "slide_type": "slide"
    }
   },
   "source": [
    "### No-conflicts merge\n",
    "\n",
    "+ Following from the previous situation:\n",
    "    + you now have a branch *iss53* that has diverged from the *master* branch\n",
    "    + a \"fast-forward\" is not possible when incorporating those changes to *master*\n",
    "    \n",
    "<img src=\"Images/merge/basic-branching-6.png\" style=\"width: 48%;\"/>\t"
   ]
  },
  {
   "cell_type": "markdown",
   "metadata": {
    "slideshow": {
     "slide_type": "slide"
    }
   },
   "source": [
    "### No-conflicts merge (2)\n",
    "\n",
    "+ A `git merge` command will have to work harder now to find:\n",
    "    + which commit is common to both lines\n",
    "    + what changes were made in each branch so as to collect all changes\n",
    "    + if changes in, e.g. different files/functions, merge possible w.o. conflicts  \n",
    "\n",
    "<img src=\"Images/merge/basic-merging-1.png\" style=\"width: 45%;\"/>\t"
   ]
  },
  {
   "cell_type": "markdown",
   "metadata": {
    "slideshow": {
     "slide_type": "slide"
    }
   },
   "source": [
    "### No-conflicts merge (3)\n",
    "\n",
    "+ And we end up with a new \"merge\" commit in *master*:\n",
    "\n",
    "<img src=\"Images/merge/basic-merging-2.png\" style=\"width: 45%;\"/>\t\n",
    "\n",
    "**Note**: remember that `git merge iss53` means: merge branch iss53 to my current branch (i.e. you want to issue the merge command with the destination branch checked-out)\n",
    "\n",
    "[*demo-1-8.cast*](https://asciinema.org/a/4SIf3zhP3K0ds9I5SdmHXUe8d?autoplay=1&cols=180&rows=40)"
   ]
  },
  {
   "cell_type": "markdown",
   "metadata": {
    "slideshow": {
     "slide_type": "slide"
    }
   },
   "source": [
    "### Merge with conflicts\n",
    "\n",
    "#### When git cannot merge automatically, it will tell you:\n",
    "``` \n",
    "$ git merge iss53\n",
    "Auto-merging index.html\n",
    "CONFLICT (content): Merge conflict in index.html\n",
    "Automatic merge failed; fix conflicts and then commit the result.\n",
    "```\n",
    "\n",
    "#### The conflicting files will have conflict-resolution markers:\n",
    "```\n",
    "<<<<<<< HEAD:index.html\n",
    "<div id=\"footer\">contact : email.support@github.com</div>\n",
    "=======\n",
    "<div id=\"footer\">contact us at support@github.com</div>\n",
    ">>>>>>> iss53:index.html\n",
    "```\n"
   ]
  },
  {
   "cell_type": "markdown",
   "metadata": {
    "slideshow": {
     "slide_type": "slide"
    }
   },
   "source": [
    "### Merge with conflicts (2)\n",
    "\n",
    "+ To resolve the conflict by hand:\n",
    "    + just edit the file with your usual text editor, leaving the correct resolution (and no markers)\n",
    "    + run `git commit` when all conflicts have been resolved\n",
    "\n",
    "   [*demo-1-9.cast*](https://asciinema.org/a/MxjPsupBk3toHCQsOuEQBKbMF?autoplay=1&cols=180&rows=40)\n",
    "   \n",
    "+ But if collaborating regularly you should really learn how to use an external tool \n",
    "    + `git mergetool` will tell you options and how to configure git\n",
    "    + GitAhead demo: https://www.youtube.com/watch?v=W-FHwUwE84M\n",
    "    + Emacs + Magit + Ediff demo: https://youtu.be/S86xsx_NzHc\n",
    "    \n",
    "\n"
   ]
  },
  {
   "cell_type": "markdown",
   "metadata": {
    "slideshow": {
     "slide_type": "slide"
    }
   },
   "source": [
    "### Practice time \n",
    "<img src=\"Images/helmet.jpg\" style=\"width: 5%;\"/>\n",
    "<font size=\"5\">\n",
    "    \n",
    "+ First make sure you synchrnonize the *master* branch in *git-it-cp1* and *git-it-cp2* with GitHub\n",
    "    + If you followed the examples above, \n",
    "        + *git-it-cp1* is synchornized with *origin/master*\n",
    "        + *git-it-cp2* has un-pushed commits. Push those ones to GitHub\n",
    "        + then pull them from *git-it-cp1*\n",
    "    + In any case, make sure that *master* in *git-it-cp1*, *git-it-cp2*, and *origin/master* are in the same state.\n",
    "+ Make a commit (adding one line to a file) in *git-it-cp1* and push to GitHub\n",
    "+ In *git-it-cp2* make a commit (adding one line to the same file above) and push to GitHub\n",
    "    + You won't be able to do it, since now the remote branch is ahead, so you will have to do a *fetch*\n",
    "    + Then *merge* *origin/master* \n",
    "        + And now you should get conflicts. Solve the conflicts and push to GitHub\n",
    "+ Back in *git-it-cp1*, pull (or fetch/merge) the changes that you just did in *git-it-cp2*         \n",
    "</font>    \n",
    "<img src=\"Images/meeting.jpg\" style=\"width: 4%;\"/>"
   ]
  },
  {
   "cell_type": "markdown",
   "metadata": {
    "slideshow": {
     "slide_type": "slide"
    }
   },
   "source": [
    "#### Possible solution\n",
    "    \n",
    "[*demo-1-10.cast*](https://asciinema.org/a/1tHAh1ygCDswdlTaG64KPuk91?autoplay=1&cols=180&rows=40)\n",
    "\n",
    "\n",
    "<img src=\"Images/merge/github_merge.png\" style=\"width: 65%;\"/>\t\n"
   ]
  },
  {
   "cell_type": "markdown",
   "metadata": {
    "slideshow": {
     "slide_type": "slide"
    }
   },
   "source": [
    "### Pull/merge requests (GitHub) \n",
    "\n",
    "+ Very useful when contributing code when not a collaborator\n",
    "+ (but it can also be used across branches with collaborators)\n",
    "\n",
    "<img src=\"Images/github/pull_request.png\" style=\"width: 45%;\"/>\t\n",
    "\n",
    "From https://www.youtube.com/watch?v=e3bjQX9jIBk"
   ]
  },
  {
   "cell_type": "markdown",
   "metadata": {
    "slideshow": {
     "slide_type": "slide"
    }
   },
   "source": [
    "### Pull request GitHub live demo\n",
    "\n",
    "+ Pull request all inside GitHub\n",
    "\n",
    "+ Pull request via local branches for more advanced control\n",
    "\n",
    "+ Keeping your fork-ed version up-to-date with the original (*upstream*)"
   ]
  },
  {
   "cell_type": "markdown",
   "metadata": {
    "slideshow": {
     "slide_type": "slide"
    }
   },
   "source": [
    "## 6. Workflows"
   ]
  },
  {
   "cell_type": "markdown",
   "metadata": {
    "slideshow": {
     "slide_type": "slide"
    }
   },
   "source": [
    "### Workflows\n",
    "\n",
    "+ Branches are a *killer* Git feature and you should use them often\n",
    "    + create a branch to fix bugs\n",
    "    + create a branch to test new ideas\n",
    "    + etc.\n",
    "    \n",
    "+ But you need to get organized with workflows or things will get messy quickly. Useful commands:\n",
    "    + `git branch --merged`\n",
    "    + `git branch --no-merged`\n",
    "    + `git branch -d <branch>`"
   ]
  },
  {
   "cell_type": "markdown",
   "metadata": {
    "slideshow": {
     "slide_type": "slide"
    }
   },
   "source": [
    "### Messy history\n",
    "\n",
    "+ Our own project, only two/three active developers \n",
    "\n",
    "<img src=\"Images/workflows/mess_commits.png\" style=\"width: 60%;\"/>\t"
   ]
  },
  {
   "cell_type": "markdown",
   "metadata": {
    "slideshow": {
     "slide_type": "slide"
    }
   },
   "source": [
    "+ Example workflow (https://nvie.com/posts/a-successful-git-branching-model/)\n",
    "\n",
    "<img src=\"Images/workflows/git-model.png\" style=\"width: 30%;\"/>\t"
   ]
  },
  {
   "cell_type": "markdown",
   "metadata": {
    "slideshow": {
     "slide_type": "slide"
    }
   },
   "source": [
    "### Many types of workflows\n",
    "\n",
    "+ see, for example, https://git-scm.com/book/en/v2/Git-Branching-Branching-Workflows\n",
    "+ for our development of PORTA (https://gitlab.com/polmag/PORTA), we decided to have something similar to:\n",
    "\n",
    "    <img src=\"Images/workflows/lr-branches-2.png\" style=\"width: 50%;\"/>\t"
   ]
  },
  {
   "cell_type": "markdown",
   "metadata": {
    "slideshow": {
     "slide_type": "slide"
    }
   },
   "source": [
    "### Clean history\n",
    "\n",
    "<img src=\"Images/workflows/clean_history.png\" style=\"width: 60%;\"/>\t"
   ]
  },
  {
   "cell_type": "markdown",
   "metadata": {
    "slideshow": {
     "slide_type": "slide"
    }
   },
   "source": [
    "### Our workflow for PORTA\n",
    "\n",
    "+ Three long-lived branches: *release*, *master*, *development*\n",
    "+ Short-lived topic branches for fixes, bugs, new developments, etc. \n",
    "+ After merged to *development* we delete the topic branch.\n",
    "+ For very small issues, we commit directly to *development*. \n",
    "+ For larger issues, we create a topic branch, and follow it up via an *issue* (in GitLab).\n",
    "+ Developers in the team have direct access only to *development*\n",
    "+ The repository maintainer (i.e. me) takes care of merging into *master* (stable versions) and *release* (ready to become public versions)\n",
    "\n",
    "+ To keep a clean history, we make sure that topic branches (**for this, we need to make use of rebasing**):\n",
    "    + can be merged as fast-forward\n",
    "    + but we merge it as no fast-forward to keep a more readable history\n",
    "    \n"
   ]
  },
  {
   "cell_type": "markdown",
   "metadata": {
    "slideshow": {
     "slide_type": "slide"
    }
   },
   "source": [
    "### Issues in GitLab (very similar in GitHub)\n",
    "\n",
    "<img src=\"Images/workflows/issues.png\" style=\"width: 60%;\"/>\t"
   ]
  },
  {
   "cell_type": "markdown",
   "metadata": {
    "slideshow": {
     "slide_type": "slide"
    }
   },
   "source": [
    "### Relate issues with logs\n",
    "\n",
    "<img src=\"Images/workflows/log.png\" style=\"width: 45%;\"/>\t"
   ]
  },
  {
   "cell_type": "markdown",
   "metadata": {
    "slideshow": {
     "slide_type": "slide"
    }
   },
   "source": [
    "## 7. Rebasing"
   ]
  },
  {
   "cell_type": "markdown",
   "metadata": {
    "slideshow": {
     "slide_type": "slide"
    }
   },
   "source": [
    "### Why do we want to avoid regular merges?\n",
    "\n",
    "+ Remember how we do merges of divergent branches\n",
    "\n",
    "<img src=\"Images/rebase/basic-branching-6.png\" style=\"width: 65%;\"/>"
   ]
  },
  {
   "cell_type": "markdown",
   "metadata": {
    "slideshow": {
     "slide_type": "slide"
    }
   },
   "source": [
    "+ Regular merge\n",
    "    + this could be two developers, each working in a branch\n",
    "\n",
    "<img src=\"Images/rebase/basic-merging-2.png\" style=\"width: 70%;\"/>"
   ]
  },
  {
   "cell_type": "markdown",
   "metadata": {
    "slideshow": {
     "slide_type": "slide"
    }
   },
   "source": [
    "+ Regular merge (2)\n",
    "    + ... things start to get messy if several branches/developers want to merge\n",
    "<img src=\"Images/rebase/branches.png\" style=\"width: 80%;\"/>"
   ]
  },
  {
   "cell_type": "markdown",
   "metadata": {
    "slideshow": {
     "slide_type": "slide"
    }
   },
   "source": [
    "+ Rebasing\n",
    "\n",
    "    + Replay the commits in this branch, but starting from some other branch\n",
    "<img src=\"Images/rebase/rebased.png\" style=\"width: 80%;\"/>"
   ]
  },
  {
   "cell_type": "markdown",
   "metadata": {
    "slideshow": {
     "slide_type": "slide"
    }
   },
   "source": [
    "### Merge vs. rebase \n",
    "**Let's just see them side by side, to understand the differences**\n",
    "\n",
    "<img src=\"Images/rebase/branches.png\" style=\"width: 60%;\"/>\n",
    "<img src=\"Images/rebase/rebased.png\" style=\"width: 60%;\"/>\n"
   ]
  },
  {
   "cell_type": "markdown",
   "metadata": {
    "slideshow": {
     "slide_type": "slide"
    }
   },
   "source": [
    "### Rebasing to keep clean commits\n",
    "\n",
    "+ While rebasing you can decide that some commits can be *squashed*, \"skipped*, put in different order, etc. If you do this only in local branches, it is very useful, for example, to combine half-baked commits into a coherent one.\n",
    "\n",
    "+ But you need to have one rule in mind: **never rebase public branches** (if other people fetched your history and you rebase it, you are rewriting it, which will cause a lot of trouble for them)\n",
    "\n",
    "+ More info about rebasing: https://git-scm.com/book/en/v2/Git-Branching-Rebasing"
   ]
  },
  {
   "cell_type": "markdown",
   "metadata": {
    "slideshow": {
     "slide_type": "slide"
    }
   },
   "source": [
    "## 8. Other useful Git configuration/commands/tools\n",
    "\n",
    "+ .gitignore (patterns of files that Git will simply ignore)\n",
    "\n",
    "+ reset      (discard commits in a private branch or throw away uncommited changes)\n",
    "+ revert     (Undo commits in a public branch)\n",
    "+ bisect     (Use binary search to find the commit that introduced a bug)\n",
    "+ blame      (Show what revision and author last modified each line of a file)\n",
    "\n",
    "+ submodules "
   ]
  },
  {
   "cell_type": "markdown",
   "metadata": {
    "slideshow": {
     "slide_type": "skip"
    }
   },
   "source": [
    "    + add stuff from advanced section in: https://github.com/sdsc/sdsc-summer-institute-2019/tree/master/4_version_control_git_github\n",
    "\n",
    "    + git-it-electron to practice"
   ]
  }
 ],
 "metadata": {
  "@webio": {
   "lastCommId": null,
   "lastKernelId": null
  },
  "celltoolbar": "Slideshow",
  "kernelspec": {
   "display_name": "Python 3",
   "language": "python",
   "name": "python3"
  },
  "language_info": {
   "codemirror_mode": {
    "name": "ipython",
    "version": 3
   },
   "file_extension": ".py",
   "mimetype": "text/x-python",
   "name": "python",
   "nbconvert_exporter": "python",
   "pygments_lexer": "ipython3",
   "version": "3.6.10"
  }
 },
 "nbformat": 4,
 "nbformat_minor": 4
}
