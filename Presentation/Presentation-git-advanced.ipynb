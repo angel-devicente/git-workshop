{
 "cells": [
  {
   "cell_type": "markdown",
   "metadata": {
    "slideshow": {
     "slide_type": "slide"
    }
   },
   "source": [
    "# Advanced Git  \n",
    "\n",
    "### Ángel de Vicente  (*angel.de.vicente@iac.es*)\n",
    "\n",
    "#### Date: December 18,  2020 (TBC)"
   ]
  },
  {
   "cell_type": "markdown",
   "metadata": {},
   "source": [
    "<img src=\"Images/logos/logos_eurocc.png\" style=\"width: 900px;\"/>"
   ]
  },
  {
   "cell_type": "markdown",
   "metadata": {
    "slideshow": {
     "slide_type": "slide"
    }
   },
   "source": [
    "## Index\n",
    "\n",
    "1. Other configuration: \n",
    "    + .gitignore (patterns of files that Git will simply ignore)\n",
    "2. Other commands:    \n",
    "    + reset       (discard commits in a private branch or throw away uncommited changes)\n",
    "    + cherry-pick (apply the changes introduced by some existing commits)\n",
    "    + bisect      (use binary search to find the commit that introduced a bug)\n",
    "    + blame       (show what revision and author last modified each line of a file)    \n",
    "    + rebase\n",
    "3. Other concepts:\n",
    "    + stash\n",
    "    + submodules \n",
    "4. Software development \n",
    "    + Workflows\n",
    "    + CI/CD (GitLab/GitHub,etc.)"
   ]
  },
  {
   "cell_type": "markdown",
   "metadata": {},
   "source": [
    "## 1. Other configuration"
   ]
  },
  {
   "cell_type": "markdown",
   "metadata": {},
   "source": [
    "### .gitignore\n",
    "\n",
    "TO DO"
   ]
  },
  {
   "cell_type": "markdown",
   "metadata": {},
   "source": [
    "## 2. Other commands"
   ]
  },
  {
   "cell_type": "markdown",
   "metadata": {},
   "source": [
    "### reset"
   ]
  },
  {
   "cell_type": "markdown",
   "metadata": {},
   "source": [
    "### cherry-pick"
   ]
  },
  {
   "cell_type": "markdown",
   "metadata": {},
   "source": [
    "### bisect"
   ]
  },
  {
   "cell_type": "markdown",
   "metadata": {},
   "source": [
    "### blame"
   ]
  },
  {
   "cell_type": "markdown",
   "metadata": {
    "slideshow": {
     "slide_type": "slide"
    }
   },
   "source": [
    "### rebase\n",
    "\n",
    "Apply all changes made in the current branch on top of another branch. (*This is a more advanced command, and you have to be careful with it*)\n",
    "\n"
   ]
  },
  {
   "cell_type": "markdown",
   "metadata": {
    "slideshow": {
     "slide_type": "slide"
    }
   },
   "source": [
    "### Why do we want to avoid regular merges?\n",
    "\n",
    "+ Remember how we do merges of divergent branches\n",
    "\n",
    "<img src=\"Images/rebase/basic-branching-6.png\" style=\"width: 65%;\"/>"
   ]
  },
  {
   "cell_type": "markdown",
   "metadata": {},
   "source": [
    "## 3. Other concepts"
   ]
  },
  {
   "cell_type": "markdown",
   "metadata": {},
   "source": [
    "### stash"
   ]
  },
  {
   "cell_type": "markdown",
   "metadata": {},
   "source": [
    "### submodules"
   ]
  },
  {
   "cell_type": "markdown",
   "metadata": {
    "slideshow": {
     "slide_type": "slide"
    }
   },
   "source": [
    "## 4. Software development"
   ]
  },
  {
   "cell_type": "markdown",
   "metadata": {
    "slideshow": {
     "slide_type": "slide"
    }
   },
   "source": [
    "### Workflows\n",
    "\n",
    "+ Branches are a *killer* Git feature and you should use them often\n",
    "    + create a branch to fix bugs\n",
    "    + create a branch to test new ideas\n",
    "    + etc.\n",
    "    \n",
    "+ But you need to get organized with workflows or things will get messy quickly. Useful commands:\n",
    "    + `git branch --merged`\n",
    "    + `git branch --no-merged`\n",
    "    + `git branch -d <branch>`"
   ]
  },
  {
   "cell_type": "markdown",
   "metadata": {
    "slideshow": {
     "slide_type": "slide"
    }
   },
   "source": [
    "### Messy history\n",
    "\n",
    "+ Our own project, only two/three active developers \n",
    "\n",
    "<img src=\"Images/workflows/mess_commits.png\" style=\"width: 60%;\"/>\t"
   ]
  },
  {
   "cell_type": "markdown",
   "metadata": {
    "slideshow": {
     "slide_type": "slide"
    }
   },
   "source": [
    "+ Example workflow (https://nvie.com/posts/a-successful-git-branching-model/)\n",
    "\n",
    "<img src=\"Images/workflows/git-model.png\" style=\"width: 30%;\"/>\t"
   ]
  },
  {
   "cell_type": "markdown",
   "metadata": {
    "slideshow": {
     "slide_type": "slide"
    }
   },
   "source": [
    "### Many types of workflows\n",
    "\n",
    "+ see, for example, https://git-scm.com/book/en/v2/Git-Branching-Branching-Workflows\n",
    "+ for our development of PORTA (https://gitlab.com/polmag/PORTA), we decided to have something similar to:\n",
    "\n",
    "    <img src=\"Images/workflows/lr-branches-2.png\" style=\"width: 50%;\"/>\t"
   ]
  },
  {
   "cell_type": "markdown",
   "metadata": {
    "slideshow": {
     "slide_type": "slide"
    }
   },
   "source": [
    "### Clean history\n",
    "\n",
    "<img src=\"Images/workflows/clean_history.png\" style=\"width: 60%;\"/>\t"
   ]
  },
  {
   "cell_type": "markdown",
   "metadata": {
    "slideshow": {
     "slide_type": "slide"
    }
   },
   "source": [
    "### Our workflow for PORTA\n",
    "\n",
    "+ Three long-lived branches: *release*, *master*, *development*, plus short-lived topic branches.\n",
    "+ After merged to *development* we delete the topic branch.\n",
    "+ Small issues directly to *development*. Larger issues have a topic branch, and we follow it up via an *issue* (in GitLab).\n",
    "+ Developers in the team have direct access only to *development*\n",
    "+ The repository maintainer (i.e. me) takes care of merging into *master* (stable versions) and *release* (ready to become public versions)\n",
    "\n",
    "+ To keep a clean history, we make sure that topic branches (**rebasing**):\n",
    "    + can be merged as fast-forward\n",
    "    + but we merge it as no fast-forward to keep a more readable history"
   ]
  },
  {
   "cell_type": "markdown",
   "metadata": {
    "slideshow": {
     "slide_type": "slide"
    }
   },
   "source": [
    "### Issues in GitLab (very similar in GitHub)\n",
    "\n",
    "<img src=\"Images/workflows/issues.png\" style=\"width: 60%;\"/>\t"
   ]
  },
  {
   "cell_type": "markdown",
   "metadata": {
    "slideshow": {
     "slide_type": "slide"
    }
   },
   "source": [
    "### Relate issues with logs\n",
    "\n",
    "<img src=\"Images/workflows/log.png\" style=\"width: 45%;\"/>\t"
   ]
  },
  {
   "cell_type": "markdown",
   "metadata": {
    "slideshow": {
     "slide_type": "slide"
    }
   },
   "source": [
    "+ Regular merge\n",
    "    + this could be two developers, each working in a branch\n",
    "\n",
    "<img src=\"Images/rebase/basic-merging-2.png\" style=\"width: 70%;\"/>"
   ]
  },
  {
   "cell_type": "markdown",
   "metadata": {
    "slideshow": {
     "slide_type": "slide"
    }
   },
   "source": [
    "+ Regular merge (2)\n",
    "    + ... things start to get messy if several branches/developers want to merge\n",
    "<img src=\"Images/rebase/branches.png\" style=\"width: 80%;\"/>"
   ]
  },
  {
   "cell_type": "markdown",
   "metadata": {
    "slideshow": {
     "slide_type": "slide"
    }
   },
   "source": [
    "+ Rebasing\n",
    "\n",
    "    + Replay the commits in this branch, but starting from some other branch\n",
    "<img src=\"Images/rebase/rebased.png\" style=\"width: 80%;\"/>"
   ]
  },
  {
   "cell_type": "markdown",
   "metadata": {
    "slideshow": {
     "slide_type": "slide"
    }
   },
   "source": [
    "### Merge vs. rebase \n",
    "**Let's just see them side by side, to understand the differences**\n",
    "\n",
    "<img src=\"Images/rebase/branches.png\" style=\"width: 60%;\"/>\n",
    "<img src=\"Images/rebase/rebased.png\" style=\"width: 60%;\"/>\n"
   ]
  },
  {
   "cell_type": "markdown",
   "metadata": {
    "slideshow": {
     "slide_type": "slide"
    }
   },
   "source": [
    "### Rebasing to keep a clean history (as we do in PORTA)\n",
    "\n",
    "+ We can have as many branches as we want\n",
    "+ Before merging to *development* branch we make sure that:\n",
    "    + the topic branch could *fast-forward* merge to *development* by rebasing the topic branch on *development*\n",
    "+ We merge the topic branch to *development*, with the *--no-ff* option, to keep a clean history and leave clear indication of when we solved a particular issue.\n",
    "\n",
    "[*demo-1-11.cast*](https://asciinema.org/a/Au3nBUONIlgXDrFvdPHK2IZeo?autoplay=1&cols=180&rows=40)"
   ]
  },
  {
   "cell_type": "markdown",
   "metadata": {
    "slideshow": {
     "slide_type": "slide"
    }
   },
   "source": [
    "### Rebasing to keep clean commits\n",
    "\n",
    "+ While rebasing you can decide that some commits can be *squashed*, *skipped*, put in different order, etc. If you do this only in local branches, it is very useful, for example, to combine half-baked commits into a coherent one.\n",
    "\n",
    "+ But you need to have one rule in mind: **never rebase public branches** (if other people fetched your history and you rebase it, you are rewriting it, which will cause a lot of trouble for them)\n",
    "\n",
    "+ More info about rebasing: https://git-scm.com/book/en/v2/Git-Branching-Rebasing"
   ]
  },
  {
   "cell_type": "markdown",
   "metadata": {
    "slideshow": {
     "slide_type": "slide"
    }
   },
   "source": [
    "## 8. Other useful Git configuration/commands/tools\n",
    "\n",
    "+ .gitignore (patterns of files that Git will simply ignore)\n",
    "\n",
    "+ reset       (discard commits in a private branch or throw away uncommited changes)\n",
    "+ cherry-pick (apply the changes introduced by some existing commits)\n",
    "+ bisect      (use binary search to find the commit that introduced a bug)\n",
    "+ blame       (show what revision and author last modified each line of a file)\n",
    "\n",
    "+ submodules "
   ]
  },
  {
   "cell_type": "markdown",
   "metadata": {
    "slideshow": {
     "slide_type": "slide"
    }
   },
   "source": [
    "## References\n",
    "\n",
    "+ [Git main page](https://git-scm.com/)\n",
    "+ [Pro Git book](https://git-scm.com/book/en/v2)\n",
    "+ [Git cheatsheet](https://ndpsoftware.com/git-cheatsheet.html)"
   ]
  }
 ],
 "metadata": {
  "@webio": {
   "lastCommId": null,
   "lastKernelId": null
  },
  "celltoolbar": "Slideshow",
  "kernelspec": {
   "display_name": "Python 3",
   "language": "python",
   "name": "python3"
  },
  "language_info": {
   "codemirror_mode": {
    "name": "ipython",
    "version": 3
   },
   "file_extension": ".py",
   "mimetype": "text/x-python",
   "name": "python",
   "nbconvert_exporter": "python",
   "pygments_lexer": "ipython3",
   "version": "3.8.3"
  }
 },
 "nbformat": 4,
 "nbformat_minor": 4
}
